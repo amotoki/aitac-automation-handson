{
 "cells": [
  {
   "cell_type": "markdown",
   "metadata": {
    "deletable": false,
    "editable": false,
    "lc_cell_meme": {
     "current": "2e0db09a-f315-11e7-9edf-0242ac110002",
     "next": "2e0db1f8-f315-11e7-9edf-0242ac110002",
     "previous": null
    },
    "run_through_control": {
     "frozen": true,
     "read_only": false
    }
   },
   "source": [
    "# 応用演習"
   ]
  },
  {
   "cell_type": "markdown",
   "metadata": {
    "deletable": false,
    "editable": false,
    "lc_cell_meme": {
     "current": "2e0db1f8-f315-11e7-9edf-0242ac110002",
     "history": [
      {
       "current": "2e0db1f8-f315-11e7-9edf-0242ac110002",
       "next": null,
       "previous": "2e0db09a-f315-11e7-9edf-0242ac110002"
      }
     ],
     "next": "04a6c560-f316-11e7-9edf-0242ac110002",
     "previous": "2e0db09a-f315-11e7-9edf-0242ac110002"
    },
    "run_through_control": {
     "frozen": true,
     "read_only": false
    }
   },
   "source": [
    "## Playbookの再利用"
   ]
  },
  {
   "cell_type": "markdown",
   "metadata": {
    "deletable": false,
    "editable": false,
    "lc_cell_meme": {
     "current": "04a6c560-f316-11e7-9edf-0242ac110002",
     "history": [
      {
       "current": "04a6c560-f316-11e7-9edf-0242ac110002",
       "next": null,
       "previous": "2e0db1f8-f315-11e7-9edf-0242ac110002"
      }
     ],
     "next": "22ca9980-f317-11e7-9edf-0242ac110002",
     "previous": "2e0db1f8-f315-11e7-9edf-0242ac110002"
    },
    "run_through_control": {
     "frozen": true
    }
   },
   "source": [
    "ここまでの基礎演習の内容を利用して、以下の作業を [advanced/01_site.yml](/edit/aitac-automation-handson/advanced/01_site.yml) として1つのPlaybookから実行できるようにしてください。\n",
    "\n",
    "* 2台のインスタンスを起動する（基礎演習１）\n",
    "* 起動したインスタンスをインベントリへ追加する（基礎演習6）→ [advanced/01_add_host_and_wait.yml](/edit/aitac-automation-handson/advanced/01_add_host_and_wait.yml)\n",
    "* 2台のインスタンスがログイン可能になるのを待つ（[wait_for](http://docs.ansible.com/ansible/latest/wait_for_module.html)を使う   → [advanced/01_add_host_and_wait.yml](/edit/aitac-automation-handson/advanced/01_add_host_and_wait.yml)）\n",
    "* 起動したインスタンスへhttpdをインストールし、index.htmlを配置してから起動する（基礎演習３）\n",
    "* 設定した内容が正しくと動作しているかテストする（基礎演習４）"
   ]
  },
  {
   "cell_type": "code",
   "execution_count": null,
   "metadata": {
    "deletable": false,
    "editable": false,
    "lc_cell_meme": {
     "current": "22ca9980-f317-11e7-9edf-0242ac110002",
     "next": "22ca9bb0-f317-11e7-9edf-0242ac110002",
     "previous": "04a6c560-f316-11e7-9edf-0242ac110002"
    },
    "run_through_control": {
     "frozen": true
    }
   },
   "outputs": [],
   "source": [
    "# 実行例\n",
    "\n",
    "ansible-playbook advanced/01_site.yml"
   ]
  },
  {
   "cell_type": "markdown",
   "metadata": {
    "lc_cell_meme": {
     "current": "22ca9bb0-f317-11e7-9edf-0242ac110002",
     "history": [
      {
       "current": "22ca9bb0-f317-11e7-9edf-0242ac110002",
       "next": null,
       "previous": "22ca9980-f317-11e7-9edf-0242ac110002"
      },
      {
       "current": "22ca9bb0-f317-11e7-9edf-0242ac110002",
       "next": "6a5373c6-f317-11e7-9edf-0242ac110002",
       "previous": "22ca9980-f317-11e7-9edf-0242ac110002"
      }
     ],
     "next": "b1dd4c3a-f317-11e7-9edf-0242ac110002",
     "previous": "22ca9980-f317-11e7-9edf-0242ac110002"
    }
   },
   "source": [
    "**_ヒント_**\n",
    "\n",
    "* import_playbook\n",
    "* add_host （EC2インスタンスの起動時に、結果をec2をいう変数に格納している）\n",
    "* wait_for\n",
    "* ダイナミックインベントリ"
   ]
  },
  {
   "cell_type": "markdown",
   "metadata": {
    "deletable": false,
    "editable": false,
    "lc_cell_meme": {
     "current": "b1dd4c3a-f317-11e7-9edf-0242ac110002",
     "next": "6a5373c6-f317-11e7-9edf-0242ac110002",
     "previous": "22ca9bb0-f317-11e7-9edf-0242ac110002"
    },
    "run_through_control": {
     "frozen": true,
     "read_only": false
    }
   },
   "source": [
    "**_注意_**\n",
    "\n",
    "次の問いに移る前に、[演習サーバーの削除](/notebooks/aitac-automation-handson/05_delete_target_servers.ipynb)を参考に、起動した演習サーバーを削除しておいてください。"
   ]
  },
  {
   "cell_type": "markdown",
   "metadata": {
    "deletable": false,
    "editable": false,
    "lc_cell_meme": {
     "current": "6a5373c6-f317-11e7-9edf-0242ac110002",
     "history": [
      {
       "current": "6a5373c6-f317-11e7-9edf-0242ac110002",
       "next": null,
       "previous": "22ca9bb0-f317-11e7-9edf-0242ac110002"
      }
     ],
     "next": "b1dd4f28-f317-11e7-9edf-0242ac110002",
     "previous": "b1dd4c3a-f317-11e7-9edf-0242ac110002"
    },
    "run_through_control": {
     "frozen": true,
     "read_only": false
    }
   },
   "source": [
    "## role 化"
   ]
  },
  {
   "cell_type": "markdown",
   "metadata": {
    "deletable": false,
    "editable": false,
    "lc_cell_meme": {
     "current": "b1dd4f28-f317-11e7-9edf-0242ac110002",
     "history": [
      {
       "current": "b1dd4f28-f317-11e7-9edf-0242ac110002",
       "next": null,
       "previous": "6a5373c6-f317-11e7-9edf-0242ac110002"
      }
     ],
     "next": "22ca9980-f317-11e7-9edf-0242ac110002",
     "previous": "6a5373c6-f317-11e7-9edf-0242ac110002"
    },
    "run_through_control": {
     "frozen": true,
     "read_only": false
    }
   },
   "source": [
    "応用演習１で使用した各Playbookを role 化し、より汎用性を高めてください。作成する role は以下になります。\n",
    "\n",
    "* roles/ec2_instance_create\n",
    "* roles/wait_server_boot\n",
    "* roles/httpd_on\n",
    "* roles/httpd_on_test\n",
    "\n",
    "これらの作成した role を [advanced/02_site.yml](/edit/aitac-automation-handson/advanced/02_site.yml)  として実行できるようにしてください。"
   ]
  },
  {
   "cell_type": "code",
   "execution_count": null,
   "metadata": {
    "deletable": false,
    "editable": false,
    "lc_cell_meme": {
     "current": "22ca9980-f317-11e7-9edf-0242ac110002",
     "history": [
      {
       "current": "22ca9980-f317-11e7-9edf-0242ac110002",
       "next": "22ca9bb0-f317-11e7-9edf-0242ac110002",
       "previous": "04a6c560-f316-11e7-9edf-0242ac110002"
      },
      {
       "current": "22ca9980-f317-11e7-9edf-0242ac110002",
       "next": "b1dd4c3a-f317-11e7-9edf-0242ac110002",
       "previous": "b1dd4f28-f317-11e7-9edf-0242ac110002"
      },
      {
       "current": "22ca9980-f317-11e7-9edf-0242ac110002",
       "next": "36f62638-f31a-11e7-9edf-0242ac110002",
       "previous": "b1dd4f28-f317-11e7-9edf-0242ac110002"
      }
     ],
     "next": "b1dd4c3a-f317-11e7-9edf-0242ac110002",
     "previous": "b1dd4f28-f317-11e7-9edf-0242ac110002"
    },
    "run_through_control": {
     "frozen": true,
     "read_only": false
    }
   },
   "outputs": [],
   "source": [
    "# 実行例\n",
    "\n",
    "ansible-playbook advanced/02_site.yml"
   ]
  },
  {
   "cell_type": "markdown",
   "metadata": {
    "deletable": false,
    "editable": false,
    "lc_cell_meme": {
     "current": "b1dd4c3a-f317-11e7-9edf-0242ac110002",
     "history": [
      {
       "current": "b1dd4c3a-f317-11e7-9edf-0242ac110002",
       "next": "6a5373c6-f317-11e7-9edf-0242ac110002",
       "previous": "22ca9bb0-f317-11e7-9edf-0242ac110002"
      },
      {
       "current": "b1dd4c3a-f317-11e7-9edf-0242ac110002",
       "next": "6a5373c6-f317-11e7-9edf-0242ac110002",
       "previous": "22ca9bb0-f317-11e7-9edf-0242ac110002"
      },
      {
       "current": "b1dd4c3a-f317-11e7-9edf-0242ac110002",
       "next": "c60773d6-f31a-11e7-9edf-0242ac110002",
       "previous": "22ca9bb0-f317-11e7-9edf-0242ac110002"
      },
      {
       "current": "b1dd4c3a-f317-11e7-9edf-0242ac110002",
       "next": "c60773d6-f31a-11e7-9edf-0242ac110002",
       "previous": "22ca9bb0-f317-11e7-9edf-0242ac110002"
      },
      {
       "current": "b1dd4c3a-f317-11e7-9edf-0242ac110002",
       "next": "c60773d6-f31a-11e7-9edf-0242ac110002",
       "previous": "22ca9bb0-f317-11e7-9edf-0242ac110002"
      },
      {
       "current": "b1dd4c3a-f317-11e7-9edf-0242ac110002",
       "next": "c60773d6-f31a-11e7-9edf-0242ac110002",
       "previous": "22ca9bb0-f317-11e7-9edf-0242ac110002"
      }
     ],
     "next": "36f62638-f31a-11e7-9edf-0242ac110002",
     "previous": "22ca9980-f317-11e7-9edf-0242ac110002"
    },
    "run_through_control": {
     "frozen": true,
     "read_only": false
    }
   },
   "source": [
    "**_注意_**\n",
    "\n",
    "ここでの環境は引き続き利用するので、この段階では削除しないようにお願いします。"
   ]
  },
  {
   "cell_type": "markdown",
   "metadata": {
    "deletable": false,
    "editable": false,
    "lc_cell_meme": {
     "current": "36f62638-f31a-11e7-9edf-0242ac110002",
     "history": [
      {
       "current": "36f62638-f31a-11e7-9edf-0242ac110002",
       "next": null,
       "previous": "b1dd4c3a-f317-11e7-9edf-0242ac110002"
      },
      {
       "current": "36f62638-f31a-11e7-9edf-0242ac110002",
       "next": "7e7dfd00-f31a-11e7-9edf-0242ac110002",
       "previous": "b1dd4c3a-f317-11e7-9edf-0242ac110002"
      },
      {
       "current": "36f62638-f31a-11e7-9edf-0242ac110002",
       "next": "7e7dfd00-f31a-11e7-9edf-0242ac110002",
       "previous": "22ca9980-f317-11e7-9edf-0242ac110002"
      }
     ],
     "next": "7e7dfd00-f31a-11e7-9edf-0242ac110002",
     "previous": "b1dd4c3a-f317-11e7-9edf-0242ac110002"
    },
    "run_through_control": {
     "frozen": true,
     "read_only": false
    }
   },
   "source": [
    "## ロードバランサーの設定"
   ]
  },
  {
   "cell_type": "markdown",
   "metadata": {
    "deletable": false,
    "editable": false,
    "lc_cell_meme": {
     "current": "7e7dfd00-f31a-11e7-9edf-0242ac110002",
     "history": [
      {
       "current": "7e7dfd00-f31a-11e7-9edf-0242ac110002",
       "next": null,
       "previous": "36f62638-f31a-11e7-9edf-0242ac110002"
      },
      {
       "current": "7e7dfd00-f31a-11e7-9edf-0242ac110002",
       "next": "c60773d6-f31a-11e7-9edf-0242ac110002",
       "previous": "36f62638-f31a-11e7-9edf-0242ac110002"
      },
      {
       "current": "7e7dfd00-f31a-11e7-9edf-0242ac110002",
       "next": "22ca9bb0-f317-11e7-9edf-0242ac110002",
       "previous": "36f62638-f31a-11e7-9edf-0242ac110002"
      }
     ],
     "next": "22ca9980-f317-11e7-9edf-0242ac110002",
     "previous": "36f62638-f31a-11e7-9edf-0242ac110002"
    },
    "run_through_control": {
     "frozen": true,
     "read_only": false
    }
   },
   "source": [
    "応用演習2で構築した環境に対して、以下の role を作成してください。\n",
    "\n",
    "* roles/nginx_lb\n",
    "* roles/nginx_lb_test\n",
    "\n",
    "動作要件\n",
    "\n",
    "* nginx をインストールする\n",
    "* 必要な設定ファイルを配置し、応用演習2で起動したサーバーへのロードバランス処理を行う\n",
    "* バランシングが行われている事をテストする。\n",
    "\n",
    "作成した role を [advanced/03_site.yml](/edit/aitac-automation-handson/advanced/03_site.yml)  として実行できるようにしてください。"
   ]
  },
  {
   "cell_type": "code",
   "execution_count": null,
   "metadata": {
    "deletable": false,
    "editable": false,
    "lc_cell_meme": {
     "current": "22ca9980-f317-11e7-9edf-0242ac110002",
     "history": [
      {
       "current": "22ca9980-f317-11e7-9edf-0242ac110002",
       "next": "22ca9bb0-f317-11e7-9edf-0242ac110002",
       "previous": "04a6c560-f316-11e7-9edf-0242ac110002"
      },
      {
       "current": "22ca9980-f317-11e7-9edf-0242ac110002",
       "next": "b1dd4c3a-f317-11e7-9edf-0242ac110002",
       "previous": "b1dd4f28-f317-11e7-9edf-0242ac110002"
      },
      {
       "current": "22ca9980-f317-11e7-9edf-0242ac110002",
       "next": "36f62638-f31a-11e7-9edf-0242ac110002",
       "previous": "b1dd4f28-f317-11e7-9edf-0242ac110002"
      }
     ],
     "next": "22ca9bb0-f317-11e7-9edf-0242ac110002",
     "previous": "7e7dfd00-f31a-11e7-9edf-0242ac110002"
    },
    "run_through_control": {
     "frozen": true,
     "read_only": false
    }
   },
   "outputs": [],
   "source": [
    "# 実行例\n",
    "\n",
    "ansible-playbook advanced/03_site.yml"
   ]
  },
  {
   "cell_type": "markdown",
   "metadata": {
    "deletable": false,
    "editable": false,
    "lc_cell_meme": {
     "current": "22ca9bb0-f317-11e7-9edf-0242ac110002",
     "history": [
      {
       "current": "22ca9bb0-f317-11e7-9edf-0242ac110002",
       "next": null,
       "previous": "22ca9980-f317-11e7-9edf-0242ac110002"
      },
      {
       "current": "22ca9bb0-f317-11e7-9edf-0242ac110002",
       "next": "6a5373c6-f317-11e7-9edf-0242ac110002",
       "previous": "22ca9980-f317-11e7-9edf-0242ac110002"
      },
      {
       "current": "22ca9bb0-f317-11e7-9edf-0242ac110002",
       "next": "b1dd4c3a-f317-11e7-9edf-0242ac110002",
       "previous": "22ca9980-f317-11e7-9edf-0242ac110002"
      },
      {
       "current": "22ca9bb0-f317-11e7-9edf-0242ac110002",
       "next": "c60773d6-f31a-11e7-9edf-0242ac110002",
       "previous": "7e7dfd00-f31a-11e7-9edf-0242ac110002"
      },
      {
       "current": "22ca9bb0-f317-11e7-9edf-0242ac110002",
       "next": "c60773d6-f31a-11e7-9edf-0242ac110002",
       "previous": "22ca9980-f317-11e7-9edf-0242ac110002"
      }
     ],
     "next": "b1dd4c3a-f317-11e7-9edf-0242ac110002",
     "previous": "22ca9980-f317-11e7-9edf-0242ac110002"
    },
    "run_through_control": {
     "frozen": true,
     "read_only": false
    }
   },
   "source": [
    "**_ヒント_**\n",
    "\n",
    "* nginx のインストールには EPEL を有効にする必要がある（epel-release）\n",
    "* nginx の設定ファイルは template モジュールを利用する\n",
    "* バランシングの確認には shellモジュールや url モジュールと assert の組み合わせて行う。"
   ]
  },
  {
   "cell_type": "markdown",
   "metadata": {
    "deletable": false,
    "editable": false,
    "lc_cell_meme": {
     "current": "b1dd4c3a-f317-11e7-9edf-0242ac110002",
     "history": [
      {
       "current": "b1dd4c3a-f317-11e7-9edf-0242ac110002",
       "next": "6a5373c6-f317-11e7-9edf-0242ac110002",
       "previous": "22ca9bb0-f317-11e7-9edf-0242ac110002"
      },
      {
       "current": "b1dd4c3a-f317-11e7-9edf-0242ac110002",
       "next": "6a5373c6-f317-11e7-9edf-0242ac110002",
       "previous": "22ca9bb0-f317-11e7-9edf-0242ac110002"
      },
      {
       "current": "b1dd4c3a-f317-11e7-9edf-0242ac110002",
       "next": "c60773d6-f31a-11e7-9edf-0242ac110002",
       "previous": "22ca9bb0-f317-11e7-9edf-0242ac110002"
      },
      {
       "current": "b1dd4c3a-f317-11e7-9edf-0242ac110002",
       "next": "c60773d6-f31a-11e7-9edf-0242ac110002",
       "previous": "22ca9bb0-f317-11e7-9edf-0242ac110002"
      },
      {
       "current": "b1dd4c3a-f317-11e7-9edf-0242ac110002",
       "next": "c60773d6-f31a-11e7-9edf-0242ac110002",
       "previous": "22ca9bb0-f317-11e7-9edf-0242ac110002"
      }
     ],
     "next": "c60773d6-f31a-11e7-9edf-0242ac110002",
     "previous": "22ca9bb0-f317-11e7-9edf-0242ac110002"
    },
    "run_through_control": {
     "frozen": true,
     "read_only": false
    }
   },
   "source": [
    "**_注意_**\n",
    "\n",
    "次の問いに移る前に、[演習サーバーの削除](/notebooks/aitac-automation-handson/05_delete_target_servers.ipynb)を参考に、起動した演習サーバーを削除しておいてください。"
   ]
  },
  {
   "cell_type": "markdown",
   "metadata": {
    "deletable": false,
    "editable": false,
    "lc_cell_meme": {
     "current": "c60773d6-f31a-11e7-9edf-0242ac110002",
     "history": [
      {
       "current": "c60773d6-f31a-11e7-9edf-0242ac110002",
       "next": null,
       "previous": "7e7dfd00-f31a-11e7-9edf-0242ac110002"
      },
      {
       "current": "c60773d6-f31a-11e7-9edf-0242ac110002",
       "next": null,
       "previous": "22ca9bb0-f317-11e7-9edf-0242ac110002"
      },
      {
       "current": "c60773d6-f31a-11e7-9edf-0242ac110002",
       "next": "9ca70b2c-f31b-11e7-9edf-0242ac110002",
       "previous": "22ca9bb0-f317-11e7-9edf-0242ac110002"
      }
     ],
     "next": "9ca70b2c-f31b-11e7-9edf-0242ac110002",
     "previous": "b1dd4c3a-f317-11e7-9edf-0242ac110002"
    },
    "run_through_control": {
     "frozen": true,
     "read_only": false
    }
   },
   "source": [
    "## 全ての設定作業を連結"
   ]
  },
  {
   "cell_type": "markdown",
   "metadata": {
    "deletable": false,
    "editable": false,
    "lc_cell_meme": {
     "current": "9ca70b2c-f31b-11e7-9edf-0242ac110002",
     "history": [
      {
       "current": "9ca70b2c-f31b-11e7-9edf-0242ac110002",
       "next": "9ca70e88-f31b-11e7-9edf-0242ac110002",
       "previous": "c60773d6-f31a-11e7-9edf-0242ac110002"
      }
     ],
     "next": "22ca9980-f317-11e7-9edf-0242ac110002",
     "previous": "c60773d6-f31a-11e7-9edf-0242ac110002"
    },
    "run_through_control": {
     "frozen": true,
     "read_only": false
    }
   },
   "source": [
    "応用演習2,3 で実施した内容を全て連結して [advanced/04_site.yml](/edit/aitac-automation-handson/advanced/04_site.yml) として実行できるようにしてください。"
   ]
  },
  {
   "cell_type": "code",
   "execution_count": null,
   "metadata": {
    "deletable": false,
    "editable": false,
    "lc_cell_meme": {
     "current": "22ca9980-f317-11e7-9edf-0242ac110002",
     "history": [
      {
       "current": "22ca9980-f317-11e7-9edf-0242ac110002",
       "next": "22ca9bb0-f317-11e7-9edf-0242ac110002",
       "previous": "04a6c560-f316-11e7-9edf-0242ac110002"
      },
      {
       "current": "22ca9980-f317-11e7-9edf-0242ac110002",
       "next": "b1dd4c3a-f317-11e7-9edf-0242ac110002",
       "previous": "b1dd4f28-f317-11e7-9edf-0242ac110002"
      },
      {
       "current": "22ca9980-f317-11e7-9edf-0242ac110002",
       "next": "36f62638-f31a-11e7-9edf-0242ac110002",
       "previous": "b1dd4f28-f317-11e7-9edf-0242ac110002"
      },
      {
       "current": "22ca9980-f317-11e7-9edf-0242ac110002",
       "next": "22ca9bb0-f317-11e7-9edf-0242ac110002",
       "previous": "7e7dfd00-f31a-11e7-9edf-0242ac110002"
      }
     ],
     "next": "9ca70e88-f31b-11e7-9edf-0242ac110002",
     "previous": "9ca70b2c-f31b-11e7-9edf-0242ac110002"
    },
    "run_through_control": {
     "frozen": true,
     "read_only": false
    }
   },
   "outputs": [],
   "source": [
    "# 実行例\n",
    "\n",
    "ansible-playbook advanced/04_site.yml"
   ]
  },
  {
   "cell_type": "markdown",
   "metadata": {
    "deletable": false,
    "editable": false,
    "lc_cell_meme": {
     "current": "9ca70e88-f31b-11e7-9edf-0242ac110002",
     "history": [
      {
       "current": "9ca70e88-f31b-11e7-9edf-0242ac110002",
       "next": null,
       "previous": "9ca70b2c-f31b-11e7-9edf-0242ac110002"
      }
     ],
     "next": null,
     "previous": "22ca9980-f317-11e7-9edf-0242ac110002"
    },
    "run_through_control": {
     "frozen": true,
     "read_only": false
    }
   },
   "source": [
    "応用演習は以上となります。"
   ]
  }
 ],
 "metadata": {
  "kernelspec": {
   "display_name": "Bash",
   "language": "bash",
   "name": "bash"
  },
  "language_info": {
   "codemirror_mode": "shell",
   "file_extension": ".sh",
   "mimetype": "text/x-sh",
   "name": "bash"
  },
  "lc_notebook_meme": {
   "current": "2e0dae24-f315-11e7-9edf-0242ac110002",
   "lc_server_signature": {
    "current": {
     "notebook_dir": "/notebooks",
     "notebook_path": "/aitac-automation-handson",
     "server_url": "http://13.112.122.31:8888/",
     "signature_id": "a266f498-eebe-11e7-9edf-0242ac110002"
    },
    "history": []
   }
  },
  "toc": {
   "nav_menu": {},
   "number_sections": true,
   "sideBar": true,
   "skip_h1_title": true,
   "title_cell": "Table of Contents",
   "title_sidebar": "Contents",
   "toc_cell": false,
   "toc_position": {},
   "toc_section_display": true,
   "toc_window_display": true
  }
 },
 "nbformat": 4,
 "nbformat_minor": 2
}
