{
 "cells": [
  {
   "cell_type": "markdown",
   "metadata": {
    "deletable": false,
    "editable": false,
    "lc_cell_meme": {
     "current": "64e13c02-eef3-11e7-9edf-0242ac110002",
     "next": "64e13e28-eef3-11e7-9edf-0242ac110002",
     "previous": null
    },
    "run_through_control": {
     "frozen": true
    }
   },
   "source": [
    "# Ansible によるサーバー操作"
   ]
  },
  {
   "cell_type": "markdown",
   "metadata": {
    "deletable": false,
    "editable": false,
    "lc_cell_meme": {
     "current": "64e13e28-eef3-11e7-9edf-0242ac110002",
     "next": "64e13f90-eef3-11e7-9edf-0242ac110002",
     "previous": "64e13c02-eef3-11e7-9edf-0242ac110002"
    },
    "run_through_control": {
     "frozen": true
    }
   },
   "source": [
    "ここでは、Ansible を用いたサーバー設定の自動化を行っていきます。"
   ]
  },
  {
   "cell_type": "markdown",
   "metadata": {
    "deletable": false,
    "editable": false,
    "lc_cell_meme": {
     "current": "64e13f90-eef3-11e7-9edf-0242ac110002",
     "next": "64e140ee-eef3-11e7-9edf-0242ac110002",
     "previous": "64e13e28-eef3-11e7-9edf-0242ac110002"
    },
    "run_through_control": {
     "frozen": true
    }
   },
   "source": [
    "## 鍵のアップロード"
   ]
  },
  {
   "cell_type": "markdown",
   "metadata": {
    "deletable": false,
    "editable": false,
    "lc_cell_meme": {
     "current": "64e140ee-eef3-11e7-9edf-0242ac110002",
     "history": [
      {
       "current": "64e140ee-eef3-11e7-9edf-0242ac110002",
       "next": null,
       "previous": "64e13f90-eef3-11e7-9edf-0242ac110002"
      }
     ],
     "next": "ac64cd64-eef3-11e7-9edf-0242ac110002",
     "previous": "64e13f90-eef3-11e7-9edf-0242ac110002"
    },
    "run_through_control": {
     "frozen": true
    }
   },
   "source": [
    "まずはじめに、aitac-automation-key.pem を Jupyter 上に登録します。Ansible はこの秘密鍵を使って操作対象のサーバーへとアクセスします。\n",
    "\n",
    "鍵の登録は以下の手順で行ってください。\n",
    "\n",
    "* Jupyter トップページの画面右の「Upload」を選択\n",
    "* アップロードする「aitac-automation-key.pem」を選んでOK\n",
    "* Jupyter 上に登録されたファイルの「Upload」ボタンを押下するとアップロードされます。"
   ]
  },
  {
   "cell_type": "markdown",
   "metadata": {
    "deletable": false,
    "editable": false,
    "lc_cell_meme": {
     "current": "ac64cd64-eef3-11e7-9edf-0242ac110002",
     "history": [
      {
       "current": "ac64cd64-eef3-11e7-9edf-0242ac110002",
       "next": null,
       "previous": "64e140ee-eef3-11e7-9edf-0242ac110002"
      }
     ],
     "next": "3b753d90-eef4-11e7-9edf-0242ac110002",
     "previous": "64e140ee-eef3-11e7-9edf-0242ac110002"
    },
    "run_through_control": {
     "frozen": true
    }
   },
   "source": [
    "鍵の権限を設定しておきます。"
   ]
  },
  {
   "cell_type": "code",
   "execution_count": 1,
   "metadata": {
    "deletable": false,
    "editable": false,
    "lc_cell_meme": {
     "current": "3b753d90-eef4-11e7-9edf-0242ac110002",
     "next": "3b753fd4-eef4-11e7-9edf-0242ac110002",
     "previous": "ac64cd64-eef3-11e7-9edf-0242ac110002"
    },
    "run_through_control": {
     "frozen": true
    }
   },
   "outputs": [
    {
     "name": "stdout",
     "output_type": "stream",
     "text": [
      "-r--------. 1 bit_kun users 1692 Jan  1 21:58 aitac-automation-key.pem\n"
     ]
    }
   ],
   "source": [
    "# 実行例\n",
    "\n",
    "chmod 400 aitac-automation-key.pem\n",
    "ls -alF aitac-automation-key.pem"
   ]
  },
  {
   "cell_type": "code",
   "execution_count": null,
   "metadata": {
    "lc_cell_meme": {
     "current": "3b753fd4-eef4-11e7-9edf-0242ac110002",
     "history": [
      {
       "current": "3b753fd4-eef4-11e7-9edf-0242ac110002",
       "next": null,
       "previous": "3b753d90-eef4-11e7-9edf-0242ac110002"
      }
     ],
     "next": "82f7e3c0-eef4-11e7-9edf-0242ac110002",
     "previous": "3b753d90-eef4-11e7-9edf-0242ac110002"
    }
   },
   "outputs": [],
   "source": [
    "# この Cell を実行してください。\n",
    "\n",
    "chmod 400 aitac-automation-key.pem\n",
    "ls -alF aitac-automation-key.pem"
   ]
  },
  {
   "cell_type": "markdown",
   "metadata": {
    "deletable": false,
    "editable": false,
    "lc_cell_meme": {
     "current": "82f7e3c0-eef4-11e7-9edf-0242ac110002",
     "next": "82f7e654-eef4-11e7-9edf-0242ac110002",
     "previous": "3b753fd4-eef4-11e7-9edf-0242ac110002"
    },
    "run_through_control": {
     "frozen": true
    }
   },
   "source": [
    "## インベントリの作成"
   ]
  },
  {
   "cell_type": "markdown",
   "metadata": {
    "deletable": false,
    "editable": false,
    "lc_cell_meme": {
     "current": "82f7e654-eef4-11e7-9edf-0242ac110002",
     "history": [
      {
       "current": "82f7e654-eef4-11e7-9edf-0242ac110002",
       "next": null,
       "previous": "82f7e3c0-eef4-11e7-9edf-0242ac110002"
      }
     ],
     "next": "a208305c-eef5-11e7-9edf-0242ac110002",
     "previous": "82f7e3c0-eef4-11e7-9edf-0242ac110002"
    },
    "run_through_control": {
     "frozen": true
    }
   },
   "source": [
    "今回の操作対象にするサーバーをインベントへ登録します。\n",
    "\n",
    "まず、AWSのダッシュボードから「bation」「ansible-taget」のIPアドレスを確認してメモしておいてください。\n",
    "\n",
    "次に、以下のファイルを開いて例の様に編集します。\n",
    "\n",
    "[inventories/02_server_ops](/edit/aitac-automation-handson/inventories/02_server_ops)"
   ]
  },
  {
   "cell_type": "markdown",
   "metadata": {
    "deletable": false,
    "editable": false,
    "lc_cell_meme": {
     "current": "a208305c-eef5-11e7-9edf-0242ac110002",
     "next": "a208325a-eef5-11e7-9edf-0242ac110002",
     "previous": "82f7e654-eef4-11e7-9edf-0242ac110002"
    },
    "run_through_control": {
     "frozen": true
    }
   },
   "source": [
    "例）\n",
    "\n",
    "    [bation]\n",
    "    11.22.33.44 ← bation のIPアドレス\n",
    "    \n",
    "    [target]\n",
    "    22.33.44.55 ← ansible-target 1台目のIPアドレス\n",
    "    33.44.55.66 ← ansible-target 2台目のIPアドレス\n"
   ]
  },
  {
   "cell_type": "markdown",
   "metadata": {
    "deletable": false,
    "editable": false,
    "lc_cell_meme": {
     "current": "a208325a-eef5-11e7-9edf-0242ac110002",
     "history": [
      {
       "current": "a208325a-eef5-11e7-9edf-0242ac110002",
       "next": null,
       "previous": "a208305c-eef5-11e7-9edf-0242ac110002"
      }
     ],
     "next": "e98f3e0c-eef5-11e7-9edf-0242ac110002",
     "previous": "a208305c-eef5-11e7-9edf-0242ac110002"
    },
    "run_through_control": {
     "frozen": true
    }
   },
   "source": [
    "## テスト接続の実行"
   ]
  },
  {
   "cell_type": "markdown",
   "metadata": {
    "deletable": false,
    "editable": false,
    "lc_cell_meme": {
     "current": "e98f3e0c-eef5-11e7-9edf-0242ac110002",
     "history": [
      {
       "current": "e98f3e0c-eef5-11e7-9edf-0242ac110002",
       "next": null,
       "previous": "a208325a-eef5-11e7-9edf-0242ac110002"
      },
      {
       "current": "e98f3e0c-eef5-11e7-9edf-0242ac110002",
       "next": "31137f4a-eef6-11e7-9edf-0242ac110002",
       "previous": "a208325a-eef5-11e7-9edf-0242ac110002"
      }
     ],
     "next": "c024f9f2-eef6-11e7-9edf-0242ac110002",
     "previous": "a208325a-eef5-11e7-9edf-0242ac110002"
    },
    "run_through_control": {
     "frozen": true
    }
   },
   "source": [
    "ここまでは Playbook に記述したモジュールを ansible-playbook コマンドで実行してきました。\n",
    "\n",
    "別の方法としてモジュールを直接 ansible から実行して動作テストを行うことが可能です。"
   ]
  },
  {
   "cell_type": "markdown",
   "metadata": {
    "deletable": false,
    "editable": false,
    "lc_cell_meme": {
     "current": "c024f9f2-eef6-11e7-9edf-0242ac110002",
     "next": "31137f4a-eef6-11e7-9edf-0242ac110002",
     "previous": "e98f3e0c-eef5-11e7-9edf-0242ac110002"
    },
    "run_through_control": {
     "frozen": true
    }
   },
   "source": [
    "以下は ping モジュールを使って、対象のホストへ接続可能かをテストしています。"
   ]
  },
  {
   "cell_type": "code",
   "execution_count": 4,
   "metadata": {
    "deletable": false,
    "editable": false,
    "lc_cell_meme": {
     "current": "31137f4a-eef6-11e7-9edf-0242ac110002",
     "history": [
      {
       "current": "31137f4a-eef6-11e7-9edf-0242ac110002",
       "next": null,
       "previous": "e98f3e0c-eef5-11e7-9edf-0242ac110002"
      },
      {
       "current": "31137f4a-eef6-11e7-9edf-0242ac110002",
       "next": "789e6a50-eef6-11e7-9edf-0242ac110002",
       "previous": "e98f3e0c-eef5-11e7-9edf-0242ac110002"
      }
     ],
     "next": "789e6a50-eef6-11e7-9edf-0242ac110002",
     "previous": "c024f9f2-eef6-11e7-9edf-0242ac110002"
    },
    "run_through_control": {
     "frozen": true
    },
    "scrolled": false
   },
   "outputs": [
    {
     "name": "stdout",
     "output_type": "stream",
     "text": [
      "\u001b[0;32m13.230.56.76 | SUCCESS => {\u001b[0m\n",
      "\u001b[0;32m    \"changed\": false, \u001b[0m\n",
      "\u001b[0;32m    \"ping\": \"pong\"\u001b[0m\n",
      "\u001b[0;32m}\u001b[0m\n",
      "\u001b[0;32m13.115.202.69 | SUCCESS => {\u001b[0m\n",
      "\u001b[0;32m    \"changed\": false, \u001b[0m\n",
      "\u001b[0;32m    \"ping\": \"pong\"\u001b[0m\n",
      "\u001b[0;32m}\u001b[0m\n"
     ]
    }
   ],
   "source": [
    "# 実行例\n",
    "\n",
    "ansible target -i inventories/02_server_ops -u centos --private-key aitac-automation-key.pem -b -m ping"
   ]
  },
  {
   "cell_type": "code",
   "execution_count": null,
   "metadata": {
    "lc_cell_meme": {
     "current": "789e6a50-eef6-11e7-9edf-0242ac110002",
     "history": [
      {
       "current": "789e6a50-eef6-11e7-9edf-0242ac110002",
       "next": null,
       "previous": "31137f4a-eef6-11e7-9edf-0242ac110002"
      }
     ],
     "next": "07abf5f0-eef7-11e7-9edf-0242ac110002",
     "previous": "31137f4a-eef6-11e7-9edf-0242ac110002"
    }
   },
   "outputs": [],
   "source": [
    "# 実行してください。\n",
    "\n",
    "ansible target -i inventories/02_server_ops -u centos --private-key aitac-automation-key.pem -b -m ping"
   ]
  },
  {
   "cell_type": "markdown",
   "metadata": {
    "deletable": false,
    "editable": false,
    "lc_cell_meme": {
     "current": "07abf5f0-eef7-11e7-9edf-0242ac110002",
     "next": "789e6a50-eef6-11e7-9edf-0242ac110002",
     "previous": "789e6a50-eef6-11e7-9edf-0242ac110002"
    },
    "run_through_control": {
     "frozen": true
    }
   },
   "source": [
    "上記の例では、インベントリの中で作成した target というグループに属している2台のサーバーへの接続テストを行っています。\n",
    "\n",
    "次の例のようにすると、bation のみへの実行が可能です。"
   ]
  },
  {
   "cell_type": "code",
   "execution_count": null,
   "metadata": {
    "lc_cell_meme": {
     "current": "789e6a50-eef6-11e7-9edf-0242ac110002",
     "history": [
      {
       "current": "789e6a50-eef6-11e7-9edf-0242ac110002",
       "next": null,
       "previous": "31137f4a-eef6-11e7-9edf-0242ac110002"
      }
     ],
     "next": "07abf7da-eef7-11e7-9edf-0242ac110002",
     "previous": "07abf5f0-eef7-11e7-9edf-0242ac110002"
    }
   },
   "outputs": [],
   "source": [
    "# 実行してください。\n",
    "\n",
    "ansible bation -i inventories/02_server_ops -u centos --private-key aitac-automation-key.pem -b -m ping"
   ]
  },
  {
   "cell_type": "markdown",
   "metadata": {
    "deletable": false,
    "editable": false,
    "lc_cell_meme": {
     "current": "07abf7da-eef7-11e7-9edf-0242ac110002",
     "next": "789e6a50-eef6-11e7-9edf-0242ac110002",
     "previous": "789e6a50-eef6-11e7-9edf-0242ac110002"
    },
    "run_through_control": {
     "frozen": true
    }
   },
   "source": [
    "次の例では、all という特別なキーワードを使って、インベントリに記載されている全てのホストへの接続テストを行っています。"
   ]
  },
  {
   "cell_type": "code",
   "execution_count": null,
   "metadata": {
    "lc_cell_meme": {
     "current": "789e6a50-eef6-11e7-9edf-0242ac110002",
     "history": [
      {
       "current": "789e6a50-eef6-11e7-9edf-0242ac110002",
       "next": null,
       "previous": "31137f4a-eef6-11e7-9edf-0242ac110002"
      }
     ],
     "next": "07abf906-eef7-11e7-9edf-0242ac110002",
     "previous": "07abf7da-eef7-11e7-9edf-0242ac110002"
    }
   },
   "outputs": [],
   "source": [
    "# 実行してください。\n",
    "\n",
    "ansible all -i inventories/02_server_ops -u centos --private-key aitac-automation-key.pem -b -m ping"
   ]
  },
  {
   "cell_type": "code",
   "execution_count": null,
   "metadata": {
    "lc_cell_meme": {
     "current": "07abf906-eef7-11e7-9edf-0242ac110002",
     "next": null,
     "previous": "789e6a50-eef6-11e7-9edf-0242ac110002"
    }
   },
   "outputs": [],
   "source": []
  }
 ],
 "metadata": {
  "kernelspec": {
   "display_name": "Bash",
   "language": "bash",
   "name": "bash"
  },
  "language_info": {
   "codemirror_mode": "shell",
   "file_extension": ".sh",
   "mimetype": "text/x-sh",
   "name": "bash"
  },
  "lc_notebook_meme": {
   "current": "64e138f6-eef3-11e7-9edf-0242ac110002",
   "lc_server_signature": {
    "current": {
     "notebook_dir": "/notebooks",
     "notebook_path": "/aitac-automation-handson",
     "server_url": "http://13.112.122.31:8888/",
     "signature_id": "a266f498-eebe-11e7-9edf-0242ac110002"
    },
    "history": []
   }
  },
  "toc": {
   "nav_menu": {},
   "number_sections": true,
   "sideBar": true,
   "skip_h1_title": true,
   "title_cell": "Table of Contents",
   "title_sidebar": "Contents",
   "toc_cell": false,
   "toc_position": {},
   "toc_section_display": true,
   "toc_window_display": true
  }
 },
 "nbformat": 4,
 "nbformat_minor": 2
}
