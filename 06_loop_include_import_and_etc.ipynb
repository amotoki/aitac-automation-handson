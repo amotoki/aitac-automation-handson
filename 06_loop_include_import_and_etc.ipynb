{
 "cells": [
  {
   "cell_type": "markdown",
   "metadata": {
    "deletable": false,
    "editable": false,
    "lc_cell_meme": {
     "current": "092e54a0-f301-11e7-9edf-0242ac110002",
     "next": "092e55e0-f301-11e7-9edf-0242ac110002",
     "previous": null
    },
    "run_through_control": {
     "frozen": true
    }
   },
   "source": [
    "# その他の情報"
   ]
  },
  {
   "cell_type": "markdown",
   "metadata": {
    "deletable": false,
    "editable": false,
    "lc_cell_meme": {
     "current": "092e55e0-f301-11e7-9edf-0242ac110002",
     "next": "092e56f8-f301-11e7-9edf-0242ac110002",
     "previous": "092e54a0-f301-11e7-9edf-0242ac110002"
    },
    "run_through_control": {
     "frozen": true
    }
   },
   "source": [
    "基本演習の最後に、ここまで解説してこなかったいくつかの機能について解説していきます。"
   ]
  },
  {
   "cell_type": "markdown",
   "metadata": {
    "deletable": false,
    "editable": false,
    "lc_cell_meme": {
     "current": "092e56f8-f301-11e7-9edf-0242ac110002",
     "next": "092e57fc-f301-11e7-9edf-0242ac110002",
     "previous": "092e55e0-f301-11e7-9edf-0242ac110002"
    },
    "run_through_control": {
     "frozen": true
    }
   },
   "source": [
    "## ループ処理"
   ]
  },
  {
   "cell_type": "markdown",
   "metadata": {
    "deletable": false,
    "editable": false,
    "lc_cell_meme": {
     "current": "092e57fc-f301-11e7-9edf-0242ac110002",
     "history": [
      {
       "current": "092e57fc-f301-11e7-9edf-0242ac110002",
       "next": null,
       "previous": "092e56f8-f301-11e7-9edf-0242ac110002"
      }
     ],
     "next": "dfc82afe-f301-11e7-9edf-0242ac110002",
     "previous": "092e56f8-f301-11e7-9edf-0242ac110002"
    },
    "run_through_control": {
     "frozen": true
    }
   },
   "source": [
    "Playbook を記述する際に、いくつかのループ処理を用いると簡潔な記述が可能となります。\n",
    "\n",
    "例\n",
    "\n",
    "```\n",
    "- yum:\n",
    "    name: httpd\n",
    "    state: latest\n",
    "\n",
    "- yum:\n",
    "    name: vim\n",
    "    state: latest\n",
    "\n",
    "- yum:\n",
    "    name: emacs\n",
    "    state: latest\n",
    "```\n",
    "\n",
    "というPlaybookは、\n",
    "\n",
    "```\n",
    "- yum:\n",
    "    name: \"{{ item }}\"\n",
    "    state: latest\n",
    "  with_items:\n",
    "    - httpd\n",
    "    - vim\n",
    "    - emacs\n",
    "```\n",
    "\n",
    "と記述することができます。\n",
    "\n",
    "この他にも様々なケースで使えるループがありますので、どのようなものがあるか眺めてみてください。\n",
    "\n",
    "* [Loops](http://docs.ansible.com/ansible/latest/playbooks_loops.html)"
   ]
  },
  {
   "cell_type": "markdown",
   "metadata": {
    "deletable": false,
    "editable": false,
    "lc_cell_meme": {
     "current": "dfc82afe-f301-11e7-9edf-0242ac110002",
     "next": "dfc82da6-f301-11e7-9edf-0242ac110002",
     "previous": "092e57fc-f301-11e7-9edf-0242ac110002"
    },
    "run_through_control": {
     "frozen": true
    }
   },
   "source": [
    "## include, import"
   ]
  },
  {
   "cell_type": "markdown",
   "metadata": {
    "deletable": false,
    "editable": false,
    "lc_cell_meme": {
     "current": "dfc82da6-f301-11e7-9edf-0242ac110002",
     "history": [
      {
       "current": "dfc82da6-f301-11e7-9edf-0242ac110002",
       "next": null,
       "previous": "dfc82afe-f301-11e7-9edf-0242ac110002"
      },
      {
       "current": "dfc82da6-f301-11e7-9edf-0242ac110002",
       "next": "45b7f154-f303-11e7-9edf-0242ac110002",
       "previous": "dfc82afe-f301-11e7-9edf-0242ac110002"
      }
     ],
     "next": "17c3d31c-f308-11e7-9edf-0242ac110002",
     "previous": "dfc82afe-f301-11e7-9edf-0242ac110002"
    },
    "run_through_control": {
     "frozen": true
    }
   },
   "source": [
    "Ansible にはPlaybookや、分解してTaskのみを記述したファイルを別のPlaybookやTaskから読み込むことができます。\n",
    "\n",
    "以下のような2つのYAMLを準備しました。\n",
    "\n",
    "* [import_include_playbook.yml](/edit/aitac-automation-handson/import_include_playbook.yml) ・・・単体で動作するPlaybook\n",
    "* [import_include_task.yml](/edit/aitac-automation-handson/import_include_task.yml) ・・・ Task のみを抜粋したTaskファイル\n",
    "\n",
    "これらの機能は、一度作ったPlaybookを再利用する場合に重要となります。"
   ]
  },
  {
   "cell_type": "markdown",
   "metadata": {
    "deletable": false,
    "editable": false,
    "lc_cell_meme": {
     "current": "17c3d31c-f308-11e7-9edf-0242ac110002",
     "next": "45b7f154-f303-11e7-9edf-0242ac110002",
     "previous": "dfc82da6-f301-11e7-9edf-0242ac110002"
    },
    "run_through_control": {
     "frozen": true
    }
   },
   "source": [
    "### import_playbook"
   ]
  },
  {
   "cell_type": "markdown",
   "metadata": {
    "deletable": false,
    "editable": false,
    "lc_cell_meme": {
     "current": "45b7f154-f303-11e7-9edf-0242ac110002",
     "history": [
      {
       "current": "45b7f154-f303-11e7-9edf-0242ac110002",
       "next": "45b7f370-f303-11e7-9edf-0242ac110002",
       "previous": "dfc82da6-f301-11e7-9edf-0242ac110002"
      }
     ],
     "next": "45b7f370-f303-11e7-9edf-0242ac110002",
     "previous": "17c3d31c-f308-11e7-9edf-0242ac110002"
    },
    "run_through_control": {
     "frozen": true
    }
   },
   "source": [
    "まず、import_playbookを使って、外部のPlaybookを呼び出してみます。\n",
    "\n",
    "* [import_include_example_playbook.yml](/edit/aitac-automation-handson/import_include_example_playbook.yml)"
   ]
  },
  {
   "cell_type": "code",
   "execution_count": null,
   "metadata": {
    "lc_cell_meme": {
     "current": "45b7f370-f303-11e7-9edf-0242ac110002",
     "history": [
      {
       "current": "45b7f370-f303-11e7-9edf-0242ac110002",
       "next": null,
       "previous": "45b7f154-f303-11e7-9edf-0242ac110002"
      },
      {
       "current": "45b7f370-f303-11e7-9edf-0242ac110002",
       "next": "1c7658d4-f304-11e7-9edf-0242ac110002",
       "previous": "45b7f154-f303-11e7-9edf-0242ac110002"
      },
      {
       "current": "45b7f370-f303-11e7-9edf-0242ac110002",
       "next": "45b7f370-f303-11e7-9edf-0242ac110002",
       "previous": "45b7f154-f303-11e7-9edf-0242ac110002"
      }
     ],
     "next": "1c7658d4-f304-11e7-9edf-0242ac110002",
     "previous": "45b7f154-f303-11e7-9edf-0242ac110002"
    }
   },
   "outputs": [],
   "source": [
    "# この Cell を実行\n",
    "\n",
    "ansible-playbook import_include_example_playbook.yml"
   ]
  },
  {
   "cell_type": "markdown",
   "metadata": {
    "deletable": false,
    "editable": false,
    "lc_cell_meme": {
     "current": "1c7658d4-f304-11e7-9edf-0242ac110002",
     "history": [
      {
       "current": "1c7658d4-f304-11e7-9edf-0242ac110002",
       "next": null,
       "previous": "45b7f370-f303-11e7-9edf-0242ac110002"
      },
      {
       "current": "1c7658d4-f304-11e7-9edf-0242ac110002",
       "next": "8220fdf0-f305-11e7-9edf-0242ac110002",
       "previous": "45b7f370-f303-11e7-9edf-0242ac110002"
      }
     ],
     "next": "17c3d54c-f308-11e7-9edf-0242ac110002",
     "previous": "45b7f370-f303-11e7-9edf-0242ac110002"
    },
    "run_through_control": {
     "frozen": true
    }
   },
   "source": [
    "このように、import_playbookを使うと、複数のPlaybookを連続して実行するこが可能となります。また、例で実施しているように、実行時に変数の値を書き換えることも可能です。"
   ]
  },
  {
   "cell_type": "markdown",
   "metadata": {
    "deletable": false,
    "editable": false,
    "lc_cell_meme": {
     "current": "17c3d54c-f308-11e7-9edf-0242ac110002",
     "next": "8220fdf0-f305-11e7-9edf-0242ac110002",
     "previous": "1c7658d4-f304-11e7-9edf-0242ac110002"
    },
    "run_through_control": {
     "frozen": true
    }
   },
   "source": [
    "### import/include_tasks"
   ]
  },
  {
   "cell_type": "markdown",
   "metadata": {
    "deletable": false,
    "editable": false,
    "lc_cell_meme": {
     "current": "8220fdf0-f305-11e7-9edf-0242ac110002",
     "history": [
      {
       "current": "8220fdf0-f305-11e7-9edf-0242ac110002",
       "next": null,
       "previous": "1c7658d4-f304-11e7-9edf-0242ac110002"
      },
      {
       "current": "8220fdf0-f305-11e7-9edf-0242ac110002",
       "next": "45b7f370-f303-11e7-9edf-0242ac110002",
       "previous": "1c7658d4-f304-11e7-9edf-0242ac110002"
      }
     ],
     "next": "45b7f370-f303-11e7-9edf-0242ac110002",
     "previous": "17c3d54c-f308-11e7-9edf-0242ac110002"
    },
    "run_through_control": {
     "frozen": true
    }
   },
   "source": [
    "次に、import_tasks, include_tasks を使って、外部のTaskファイルを呼び出してみます。\n",
    "\n",
    "* [import_include_example_task.yml](/edit/aitac-automation-handson/import_include_example_task.yml)"
   ]
  },
  {
   "cell_type": "code",
   "execution_count": null,
   "metadata": {
    "lc_cell_meme": {
     "current": "45b7f370-f303-11e7-9edf-0242ac110002",
     "history": [
      {
       "current": "45b7f370-f303-11e7-9edf-0242ac110002",
       "next": null,
       "previous": "45b7f154-f303-11e7-9edf-0242ac110002"
      },
      {
       "current": "45b7f370-f303-11e7-9edf-0242ac110002",
       "next": "1c7658d4-f304-11e7-9edf-0242ac110002",
       "previous": "45b7f154-f303-11e7-9edf-0242ac110002"
      },
      {
       "current": "45b7f370-f303-11e7-9edf-0242ac110002",
       "next": "45b7f370-f303-11e7-9edf-0242ac110002",
       "previous": "45b7f154-f303-11e7-9edf-0242ac110002"
      },
      {
       "current": "45b7f370-f303-11e7-9edf-0242ac110002",
       "next": "1c7658d4-f304-11e7-9edf-0242ac110002",
       "previous": "45b7f154-f303-11e7-9edf-0242ac110002"
      },
      {
       "current": "45b7f370-f303-11e7-9edf-0242ac110002",
       "next": "6416c5be-f306-11e7-9edf-0242ac110002",
       "previous": "45b7f370-f303-11e7-9edf-0242ac110002"
      },
      {
       "current": "45b7f370-f303-11e7-9edf-0242ac110002",
       "next": "45b7f370-f303-11e7-9edf-0242ac110002",
       "previous": "8220fdf0-f305-11e7-9edf-0242ac110002"
      }
     ],
     "next": "6416c5be-f306-11e7-9edf-0242ac110002",
     "previous": "8220fdf0-f305-11e7-9edf-0242ac110002"
    }
   },
   "outputs": [],
   "source": [
    "# この Cell を実行\n",
    "\n",
    "ansible-playbook import_include_example_task.yml"
   ]
  },
  {
   "cell_type": "markdown",
   "metadata": {
    "deletable": false,
    "editable": false,
    "lc_cell_meme": {
     "current": "6416c5be-f306-11e7-9edf-0242ac110002",
     "history": [
      {
       "current": "6416c5be-f306-11e7-9edf-0242ac110002",
       "next": null,
       "previous": "45b7f370-f303-11e7-9edf-0242ac110002"
      }
     ],
     "next": "35e64234-f309-11e7-9edf-0242ac110002",
     "previous": "45b7f370-f303-11e7-9edf-0242ac110002"
    },
    "run_through_control": {
     "frozen": true
    }
   },
   "source": [
    "このように、外部に配置したTaskファイルを読み込むことが可能です。\n",
    "\n",
    "import_tasks, include_tasks の違いは、どのタイミングでTaskファイルが読み込まれるかが違います。\n",
    "\n",
    "* import_tasks ・・・Playbookの実行前にファイルが読み込まれます（先読み、静的）\n",
    "* include_tasks ・・・Playbookが実行され、該当のinclude箇所まで来た時にファイルが読み込まれます（後読み、動的）\n",
    "\n",
    "ループや変数と組み合わせて動的に読み込むTaskファイルを変える場合には include_tasks を使います。\n",
    "それ以外は import_tasks を使っておけばほぼ問題はありません。\n",
    "\n",
    "これらの詳細な違いについては以下のドキュメントに詳細が解説されています。\n",
    "\n",
    "* [Creating Reusable Playbooks](https://docs.ansible.com/ansible/2.4/playbooks_reuse.html)\n",
    "* [Including and Importing](https://docs.ansible.com/ansible/2.4/playbooks_reuse_includes.html)\n",
    "\n",
    "\n",
    "\n"
   ]
  },
  {
   "cell_type": "markdown",
   "metadata": {
    "deletable": false,
    "editable": false,
    "lc_cell_meme": {
     "current": "35e64234-f309-11e7-9edf-0242ac110002",
     "history": [
      {
       "current": "35e64234-f309-11e7-9edf-0242ac110002",
       "next": null,
       "previous": "6416c5be-f306-11e7-9edf-0242ac110002"
      }
     ],
     "next": "7d6eecd2-f309-11e7-9edf-0242ac110002",
     "previous": "6416c5be-f306-11e7-9edf-0242ac110002"
    },
    "run_through_control": {
     "frozen": true
    }
   },
   "source": [
    "## その他の情報"
   ]
  },
  {
   "cell_type": "markdown",
   "metadata": {
    "deletable": false,
    "editable": false,
    "lc_cell_meme": {
     "current": "7d6eecd2-f309-11e7-9edf-0242ac110002",
     "next": "7d6eeeda-f309-11e7-9edf-0242ac110002",
     "previous": "35e64234-f309-11e7-9edf-0242ac110002"
    },
    "run_through_control": {
     "frozen": true
    }
   },
   "source": [
    "* [Ansible公式ドキュメント](https://docs.ansible.com)"
   ]
  },
  {
   "cell_type": "markdown",
   "metadata": {
    "deletable": false,
    "editable": false,
    "lc_cell_meme": {
     "current": "7d6eeeda-f309-11e7-9edf-0242ac110002",
     "history": [
      {
       "current": "7d6eeeda-f309-11e7-9edf-0242ac110002",
       "next": null,
       "previous": "7d6eecd2-f309-11e7-9edf-0242ac110002"
      }
     ],
     "next": "c4f49746-f309-11e7-9edf-0242ac110002",
     "previous": "7d6eecd2-f309-11e7-9edf-0242ac110002"
    },
    "run_through_control": {
     "frozen": true
    }
   },
   "source": [
    "## 自由演習（時間が余った方向け）"
   ]
  },
  {
   "cell_type": "markdown",
   "metadata": {
    "deletable": false,
    "editable": false,
    "lc_cell_meme": {
     "current": "c4f49746-f309-11e7-9edf-0242ac110002",
     "history": [
      {
       "current": "c4f49746-f309-11e7-9edf-0242ac110002",
       "next": null,
       "previous": "7d6eeeda-f309-11e7-9edf-0242ac110002"
      }
     ],
     "next": "0c7ff36c-f30a-11e7-9edf-0242ac110002",
     "previous": "7d6eeeda-f309-11e7-9edf-0242ac110002"
    },
    "run_through_control": {
     "frozen": true
    }
   },
   "source": [
    "aitac-automation-handson/scratch ディレクトリに好きなPlaybookを作成して自由に実行し、これまでの内容を復習してください。\n",
    "\n",
    "新しいPlaybookを作成する際のテンプレートは以下になります。\n",
    "\n",
    "* [scratch/example.yml](/edit/aitac-automation-handson/scratch/example.yml)"
   ]
  },
  {
   "cell_type": "code",
   "execution_count": null,
   "metadata": {
    "lc_cell_meme": {
     "current": "0c7ff36c-f30a-11e7-9edf-0242ac110002",
     "next": "0c7ff5e2-f30a-11e7-9edf-0242ac110002",
     "previous": "c4f49746-f309-11e7-9edf-0242ac110002"
    }
   },
   "outputs": [],
   "source": [
    "# 実行例\n",
    "\n",
    "ansible-playbook -i inventories/01_aws_ops scratch/example.yml"
   ]
  },
  {
   "cell_type": "code",
   "execution_count": null,
   "metadata": {
    "lc_cell_meme": {
     "current": "0c7ff5e2-f30a-11e7-9edf-0242ac110002",
     "next": "0c7ff70e-f30a-11e7-9edf-0242ac110002",
     "previous": "0c7ff36c-f30a-11e7-9edf-0242ac110002"
    }
   },
   "outputs": [],
   "source": []
  },
  {
   "cell_type": "code",
   "execution_count": null,
   "metadata": {
    "lc_cell_meme": {
     "current": "0c7ff70e-f30a-11e7-9edf-0242ac110002",
     "next": "0c7ff81c-f30a-11e7-9edf-0242ac110002",
     "previous": "0c7ff5e2-f30a-11e7-9edf-0242ac110002"
    }
   },
   "outputs": [],
   "source": []
  },
  {
   "cell_type": "code",
   "execution_count": null,
   "metadata": {
    "lc_cell_meme": {
     "current": "0c7ff81c-f30a-11e7-9edf-0242ac110002",
     "next": null,
     "previous": "0c7ff70e-f30a-11e7-9edf-0242ac110002"
    }
   },
   "outputs": [],
   "source": []
  }
 ],
 "metadata": {
  "kernelspec": {
   "display_name": "Bash",
   "language": "bash",
   "name": "bash"
  },
  "language_info": {
   "codemirror_mode": "shell",
   "file_extension": ".sh",
   "mimetype": "text/x-sh",
   "name": "bash"
  },
  "lc_notebook_meme": {
   "current": "092e5248-f301-11e7-9edf-0242ac110002",
   "lc_server_signature": {
    "current": {
     "notebook_dir": "/notebooks",
     "notebook_path": "/aitac-automation-handson",
     "server_url": "http://13.112.122.31:8888/",
     "signature_id": "a266f498-eebe-11e7-9edf-0242ac110002"
    },
    "history": []
   }
  },
  "toc": {
   "nav_menu": {},
   "number_sections": true,
   "sideBar": true,
   "skip_h1_title": true,
   "title_cell": "Table of Contents",
   "title_sidebar": "Contents",
   "toc_cell": false,
   "toc_position": {},
   "toc_section_display": true,
   "toc_window_display": true
  }
 },
 "nbformat": 4,
 "nbformat_minor": 2
}
