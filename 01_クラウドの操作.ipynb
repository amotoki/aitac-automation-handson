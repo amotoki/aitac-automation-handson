{
 "cells": [
  {
   "cell_type": "markdown",
   "metadata": {
    "deletable": false,
    "editable": false,
    "lc_cell_meme": {
     "current": "37683170-ee41-11e7-80ef-0242ac110002",
     "next": "376832e2-ee41-11e7-80ef-0242ac110002",
     "previous": null
    },
    "run_through_control": {
     "frozen": true
    }
   },
   "source": [
    "# Ansibleによるクラウドの操作"
   ]
  },
  {
   "cell_type": "markdown",
   "metadata": {
    "deletable": false,
    "editable": false,
    "lc_cell_meme": {
     "current": "376832e2-ee41-11e7-80ef-0242ac110002",
     "next": "376833fa-ee41-11e7-80ef-0242ac110002",
     "previous": "37683170-ee41-11e7-80ef-0242ac110002"
    },
    "run_through_control": {
     "frozen": true
    }
   },
   "source": [
    "本演習では手始めにAnsible を用いてAWS上にサーバーを1台構築してみます。"
   ]
  },
  {
   "cell_type": "markdown",
   "metadata": {
    "deletable": false,
    "editable": false,
    "lc_cell_meme": {
     "current": "376833fa-ee41-11e7-80ef-0242ac110002",
     "history": [
      {
       "current": "376833fa-ee41-11e7-80ef-0242ac110002",
       "next": null,
       "previous": "376832e2-ee41-11e7-80ef-0242ac110002"
      },
      {
       "current": "376833fa-ee41-11e7-80ef-0242ac110002",
       "next": "7ef27da2-ee41-11e7-80ef-0242ac110002",
       "previous": "376832e2-ee41-11e7-80ef-0242ac110002"
      }
     ],
     "next": "9798df2e-ee7b-11e7-80ef-0242ac110002",
     "previous": "376832e2-ee41-11e7-80ef-0242ac110002"
    },
    "run_through_control": {
     "frozen": true
    }
   },
   "source": [
    "## AWSを操作する準備"
   ]
  },
  {
   "cell_type": "markdown",
   "metadata": {
    "deletable": false,
    "editable": false,
    "lc_cell_meme": {
     "current": "9798df2e-ee7b-11e7-80ef-0242ac110002",
     "next": "7ef27da2-ee41-11e7-80ef-0242ac110002",
     "previous": "376833fa-ee41-11e7-80ef-0242ac110002"
    },
    "run_through_control": {
     "frozen": true
    }
   },
   "source": [
    "AWS を操作するための aws コマンドをセットアップしていきます。既にコマンドはインストール済みですので、必要な認証情報を設定していきます。\n",
    "\n",
    "このまま実行すると、以下のようにエラーとなります。"
   ]
  },
  {
   "cell_type": "code",
   "execution_count": 5,
   "metadata": {
    "deletable": false,
    "editable": false,
    "lc_cell_meme": {
     "current": "7ef27da2-ee41-11e7-80ef-0242ac110002",
     "history": [
      {
       "current": "7ef27da2-ee41-11e7-80ef-0242ac110002",
       "next": "7ef27f8c-ee41-11e7-80ef-0242ac110002",
       "previous": "376833fa-ee41-11e7-80ef-0242ac110002"
      }
     ],
     "next": "7ef27f8c-ee41-11e7-80ef-0242ac110002",
     "previous": "9798df2e-ee7b-11e7-80ef-0242ac110002"
    },
    "run_through_control": {
     "frozen": true
    },
    "scrolled": false
   },
   "outputs": [
    {
     "name": "stdout",
     "output_type": "stream",
     "text": [
      "You must specify a region. You can also configure your region by running \"aws configure\".\n"
     ]
    },
    {
     "ename": "",
     "evalue": "255",
     "output_type": "error",
     "traceback": []
    }
   ],
   "source": [
    "aws ec2 describe-key-pairs"
   ]
  },
  {
   "cell_type": "markdown",
   "metadata": {
    "deletable": false,
    "editable": false,
    "lc_cell_meme": {
     "current": "7ef27f8c-ee41-11e7-80ef-0242ac110002",
     "history": [
      {
       "current": "7ef27f8c-ee41-11e7-80ef-0242ac110002",
       "next": null,
       "previous": "7ef27da2-ee41-11e7-80ef-0242ac110002"
      }
     ],
     "next": "df1d399e-ee7b-11e7-80ef-0242ac110002",
     "previous": "7ef27da2-ee41-11e7-80ef-0242ac110002"
    },
    "run_through_control": {
     "frozen": true
    }
   },
   "source": [
    "aws コマンドをセットアップするために、以下の情報を集めます。"
   ]
  },
  {
   "cell_type": "markdown",
   "metadata": {
    "deletable": false,
    "editable": false,
    "lc_cell_meme": {
     "current": "df1d399e-ee7b-11e7-80ef-0242ac110002",
     "history": [
      {
       "current": "df1d399e-ee7b-11e7-80ef-0242ac110002",
       "next": null,
       "previous": "7ef27f8c-ee41-11e7-80ef-0242ac110002"
      },
      {
       "current": "df1d399e-ee7b-11e7-80ef-0242ac110002",
       "next": "26a4e99c-ee7c-11e7-80ef-0242ac110002",
       "previous": "7ef27f8c-ee41-11e7-80ef-0242ac110002"
      }
     ],
     "next": "3211d130-eea1-11e7-80ef-0242ac110002",
     "previous": "7ef27f8c-ee41-11e7-80ef-0242ac110002"
    },
    "run_through_control": {
     "frozen": true
    }
   },
   "source": [
    "| 項目                  | パラメーター         | 確認方法 |\n",
    "|:---------------------|:-------------------|:-------|\n",
    "|AWS Access Key ID     |自分のアクセスキー    |事務局から発行された値を使ってください |\n",
    "|AWS Secret Access Key |自分のシークレットキー |事務局から発行された値を使ってください |\n",
    "|Default region name   |ap-northeast-1     | |\n",
    "|Default output format |json               | |"
   ]
  },
  {
   "cell_type": "markdown",
   "metadata": {
    "deletable": false,
    "editable": false,
    "lc_cell_meme": {
     "current": "3211d130-eea1-11e7-80ef-0242ac110002",
     "history": [
      {
       "current": "3211d130-eea1-11e7-80ef-0242ac110002",
       "next": "26a4e99c-ee7c-11e7-80ef-0242ac110002",
       "previous": "df1d399e-ee7b-11e7-80ef-0242ac110002"
      }
     ],
     "next": "4f9851e2-eea2-11e7-80ef-0242ac110002",
     "previous": "df1d399e-ee7b-11e7-80ef-0242ac110002"
    },
    "run_through_control": {
     "frozen": true
    }
   },
   "source": [
    "認証情報を設定するには、Jupyter からターミナルを起動して、以下のように実行します。\n",
    "\n",
    "*※このコマンドはノートブックからは実行しないでください*\n",
    "\n",
    "    $ aws configure\n",
    "    AWS Access Key ID [None]: AABBCCDDEEFF\n",
    "    AWS Secret Access Key [None]: 1234567890abcdefghijklmn\n",
    "    Default region name [None]: ap-northeast-1\n",
    "    Default output format [None]: json\n",
    "\n",
    "    $ exit\n"
   ]
  },
  {
   "cell_type": "markdown",
   "metadata": {
    "lc_cell_meme": {
     "current": "4f9851e2-eea2-11e7-80ef-0242ac110002",
     "history": [
      {
       "current": "4f9851e2-eea2-11e7-80ef-0242ac110002",
       "next": "26a4e99c-ee7c-11e7-80ef-0242ac110002",
       "previous": "3211d130-eea1-11e7-80ef-0242ac110002"
      }
     ],
     "next": "971f7ca2-eea2-11e7-80ef-0242ac110002",
     "previous": "3211d130-eea1-11e7-80ef-0242ac110002"
    }
   },
   "source": [
    "必要な情報を設定したら以下のコマンドで設定を確認します。"
   ]
  },
  {
   "cell_type": "code",
   "execution_count": 8,
   "metadata": {
    "deletable": false,
    "editable": false,
    "lc_cell_meme": {
     "current": "971f7ca2-eea2-11e7-80ef-0242ac110002",
     "next": "971f7ea0-eea2-11e7-80ef-0242ac110002",
     "previous": "4f9851e2-eea2-11e7-80ef-0242ac110002"
    },
    "run_through_control": {
     "frozen": true
    }
   },
   "outputs": [
    {
     "name": "stdout",
     "output_type": "stream",
     "text": [
      "{\n",
      "    \"Reservations\": [\n",
      "        {\n",
      "            \"Instances\": [\n",
      "                {\n",
      "                    \"Monitoring\": {\n",
      "                        \"State\": \"disabled\"\n",
      "                    }, \n",
      "                    \"PublicDnsName\": \"ec2-13-112-122-31.ap-northeast-1.compute.amazonaws.com\", \n",
      "                    \"State\": {\n",
      "                        \"Code\": 16, \n",
      "                        \"Name\": \"running\"\n",
      "                    }, \n",
      "                    \"EbsOptimized\": false, \n",
      "                    \"LaunchTime\": \"2017-12-31T11:48:15.000Z\", \n",
      "                    \"PublicIpAddress\": \"13.112.122.31\", \n",
      "                    \"PrivateIpAddress\": \"172.31.26.42\", \n",
      "                    \"ProductCodes\": [\n",
      "                        {\n",
      "                            \"ProductCodeId\": \"aw0evgkw8e5c1q413zgy5pjce\", \n",
      "                            \"ProductCodeType\": \"marketplace\"\n",
      "                        }\n",
      "                    ], \n",
      "                    \"VpcId\": \"vpc-16cb0c71\", \n",
      "                    \"StateTransitionReason\": \"\", \n",
      "                    \"InstanceId\": \"i-0452e56226c443d76\", \n",
      "                    \"EnaSupport\": true, \n",
      "                    \"ImageId\": \"ami-4dd5522b\", \n",
      "                    \"PrivateDnsName\": \"ip-172-31-26-42.ap-northeast-1.compute.internal\", \n",
      "                    \"KeyName\": \"aitac-automation-key\", \n",
      "                    \"SecurityGroups\": [\n",
      "                        {\n",
      "                            \"GroupName\": \"aitac-automation-sg\", \n",
      "                            \"GroupId\": \"sg-e870c591\"\n",
      "                        }\n",
      "                    ], \n",
      "                    \"ClientToken\": \"151472089157447212\", \n",
      "                    \"SubnetId\": \"subnet-caea7083\", \n",
      "                    \"InstanceType\": \"t2.micro\", \n",
      "                    \"NetworkInterfaces\": [\n",
      "                        {\n",
      "                            \"Status\": \"in-use\", \n",
      "                            \"MacAddress\": \"06:db:f0:bf:8f:94\", \n",
      "                            \"SourceDestCheck\": true, \n",
      "                            \"VpcId\": \"vpc-16cb0c71\", \n",
      "                            \"Description\": \"\", \n",
      "                            \"NetworkInterfaceId\": \"eni-f687b0ca\", \n",
      "                            \"PrivateIpAddresses\": [\n",
      "                                {\n",
      "                                    \"PrivateDnsName\": \"ip-172-31-26-42.ap-northeast-1.compute.internal\", \n",
      "                                    \"PrivateIpAddress\": \"172.31.26.42\", \n",
      "                                    \"Primary\": true, \n",
      "                                    \"Association\": {\n",
      "                                        \"PublicIp\": \"13.112.122.31\", \n",
      "                                        \"PublicDnsName\": \"ec2-13-112-122-31.ap-northeast-1.compute.amazonaws.com\", \n",
      "                                        \"IpOwnerId\": \"amazon\"\n",
      "                                    }\n",
      "                                }\n",
      "                            ], \n",
      "                            \"PrivateDnsName\": \"ip-172-31-26-42.ap-northeast-1.compute.internal\", \n",
      "                            \"Attachment\": {\n",
      "                                \"Status\": \"attached\", \n",
      "                                \"DeviceIndex\": 0, \n",
      "                                \"DeleteOnTermination\": true, \n",
      "                                \"AttachmentId\": \"eni-attach-d1031a3a\", \n",
      "                                \"AttachTime\": \"2017-12-31T11:48:15.000Z\"\n",
      "                            }, \n",
      "                            \"Groups\": [\n",
      "                                {\n",
      "                                    \"GroupName\": \"aitac-automation-sg\", \n",
      "                                    \"GroupId\": \"sg-e870c591\"\n",
      "                                }\n",
      "                            ], \n",
      "                            \"Ipv6Addresses\": [], \n",
      "                            \"OwnerId\": \"996856287150\", \n",
      "                            \"PrivateIpAddress\": \"172.31.26.42\", \n",
      "                            \"SubnetId\": \"subnet-caea7083\", \n",
      "                            \"Association\": {\n",
      "                                \"PublicIp\": \"13.112.122.31\", \n",
      "                                \"PublicDnsName\": \"ec2-13-112-122-31.ap-northeast-1.compute.amazonaws.com\", \n",
      "                                \"IpOwnerId\": \"amazon\"\n",
      "                            }\n",
      "                        }\n",
      "                    ], \n",
      "                    \"SourceDestCheck\": true, \n",
      "                    \"Placement\": {\n",
      "                        \"Tenancy\": \"default\", \n",
      "                        \"GroupName\": \"\", \n",
      "                        \"AvailabilityZone\": \"ap-northeast-1a\"\n",
      "                    }, \n",
      "                    \"Hypervisor\": \"xen\", \n",
      "                    \"BlockDeviceMappings\": [\n",
      "                        {\n",
      "                            \"DeviceName\": \"/dev/sda1\", \n",
      "                            \"Ebs\": {\n",
      "                                \"Status\": \"attached\", \n",
      "                                \"DeleteOnTermination\": true, \n",
      "                                \"VolumeId\": \"vol-083fbe3dd88212d8b\", \n",
      "                                \"AttachTime\": \"2017-12-31T11:48:16.000Z\"\n",
      "                            }\n",
      "                        }\n",
      "                    ], \n",
      "                    \"Architecture\": \"x86_64\", \n",
      "                    \"RootDeviceType\": \"ebs\", \n",
      "                    \"RootDeviceName\": \"/dev/sda1\", \n",
      "                    \"VirtualizationType\": \"hvm\", \n",
      "                    \"Tags\": [\n",
      "                        {\n",
      "                            \"Value\": \"manager\", \n",
      "                            \"Key\": \"automation_group\"\n",
      "                        }\n",
      "                    ], \n",
      "                    \"AmiLaunchIndex\": 0\n",
      "                }\n",
      "            ], \n",
      "            \"ReservationId\": \"r-086806efd92e9b41b\", \n",
      "            \"Groups\": [], \n",
      "            \"OwnerId\": \"996856287150\"\n",
      "        }\n",
      "    ]\n",
      "}\n"
     ]
    }
   ],
   "source": [
    "# 実行例\n",
    "aws ec2 describe-instances"
   ]
  },
  {
   "cell_type": "code",
   "execution_count": null,
   "metadata": {
    "lc_cell_meme": {
     "current": "971f7ea0-eea2-11e7-80ef-0242ac110002",
     "next": "26a4e99c-ee7c-11e7-80ef-0242ac110002",
     "previous": "971f7ca2-eea2-11e7-80ef-0242ac110002"
    }
   },
   "outputs": [],
   "source": [
    "# このCell を実行して、設定が正しく投入されているか確認してください。\n",
    "\n",
    "aws ec2 describe-instances"
   ]
  },
  {
   "cell_type": "code",
   "execution_count": 7,
   "metadata": {
    "deletable": false,
    "editable": false,
    "lc_cell_meme": {
     "current": "26a4e99c-ee7c-11e7-80ef-0242ac110002",
     "history": [
      {
       "current": "26a4e99c-ee7c-11e7-80ef-0242ac110002",
       "next": null,
       "previous": "df1d399e-ee7b-11e7-80ef-0242ac110002"
      },
      {
       "current": "26a4e99c-ee7c-11e7-80ef-0242ac110002",
       "next": "1484bc0e-ee7e-11e7-80ef-0242ac110002",
       "previous": "df1d399e-ee7b-11e7-80ef-0242ac110002"
      },
      {
       "current": "26a4e99c-ee7c-11e7-80ef-0242ac110002",
       "next": "1484bc0e-ee7e-11e7-80ef-0242ac110002",
       "previous": "3211d130-eea1-11e7-80ef-0242ac110002"
      },
      {
       "current": "26a4e99c-ee7c-11e7-80ef-0242ac110002",
       "next": "1484bc0e-ee7e-11e7-80ef-0242ac110002",
       "previous": "4f9851e2-eea2-11e7-80ef-0242ac110002"
      }
     ],
     "next": "1484bc0e-ee7e-11e7-80ef-0242ac110002",
     "previous": "971f7ea0-eea2-11e7-80ef-0242ac110002"
    },
    "run_through_control": {
     "frozen": true
    }
   },
   "outputs": [
    {
     "name": "stdout",
     "output_type": "stream",
     "text": [
      "ap-northeast-1a"
     ]
    }
   ],
   "source": [
    "curl http://169.254.169.254/latest/meta-data/placement/availability-zone"
   ]
  },
  {
   "cell_type": "code",
   "execution_count": 12,
   "metadata": {
    "deletable": false,
    "editable": false,
    "lc_cell_meme": {
     "current": "1484bc0e-ee7e-11e7-80ef-0242ac110002",
     "history": [
      {
       "current": "1484bc0e-ee7e-11e7-80ef-0242ac110002",
       "next": null,
       "previous": "26a4e99c-ee7c-11e7-80ef-0242ac110002"
      }
     ],
     "next": "69625492-eeac-11e7-80ef-0242ac110002",
     "previous": "26a4e99c-ee7c-11e7-80ef-0242ac110002"
    },
    "run_through_control": {
     "frozen": true
    }
   },
   "outputs": [
    {
     "name": "stdout",
     "output_type": "stream",
     "text": [
      "[\n",
      "    {\n",
      "        \"PublicIp\": \"13.112.122.31\", \n",
      "        \"InstanceId\": \"i-0452e56226c443d76\", \n",
      "        \"Name\": [\n",
      "            \"manager\"\n",
      "        ], \n",
      "        \"PrivateIp\": \"172.31.26.42\"\n",
      "    }\n",
      "]\n"
     ]
    }
   ],
   "source": [
    "aws ec2 describe-instances --query \\\n",
    "      'Reservations[].Instances[].{PublicIp:PublicIpAddress,PrivateIp:PrivateIpAddress,InstanceId:InstanceId,Name:Tags[?Key==`automation_group`].Value}'"
   ]
  },
  {
   "cell_type": "code",
   "execution_count": null,
   "metadata": {
    "lc_cell_meme": {
     "current": "69625492-eeac-11e7-80ef-0242ac110002",
     "next": null,
     "previous": "1484bc0e-ee7e-11e7-80ef-0242ac110002"
    }
   },
   "outputs": [],
   "source": []
  }
 ],
 "metadata": {
  "kernelspec": {
   "display_name": "Bash",
   "language": "bash",
   "name": "bash"
  },
  "language_info": {
   "codemirror_mode": "shell",
   "file_extension": ".sh",
   "mimetype": "text/x-sh",
   "name": "bash"
  },
  "lc_notebook_meme": {
   "current": "37682dd8-ee41-11e7-80ef-0242ac110002",
   "lc_server_signature": {
    "current": {
     "notebook_dir": "/notebooks",
     "notebook_path": "/aitac-automation-handson",
     "server_url": "http://13.112.122.31:8888/",
     "signature_id": "1ba34b78-ee23-11e7-80ef-0242ac110002"
    },
    "history": []
   }
  },
  "toc": {
   "nav_menu": {},
   "number_sections": true,
   "sideBar": true,
   "skip_h1_title": true,
   "title_cell": "Table of Contents",
   "title_sidebar": "Contents",
   "toc_cell": false,
   "toc_position": {},
   "toc_section_display": true,
   "toc_window_display": true
  }
 },
 "nbformat": 4,
 "nbformat_minor": 2
}
