{
 "cells": [
  {
   "cell_type": "markdown",
   "metadata": {
    "deletable": false,
    "editable": false,
    "lc_cell_meme": {
     "current": "742e4282-ee2f-11e7-80ef-0242ac110002",
     "history": [
      {
       "current": "742e4282-ee2f-11e7-80ef-0242ac110002",
       "next": null,
       "previous": null
      },
      {
       "current": "742e4282-ee2f-11e7-80ef-0242ac110002",
       "next": "bb862316-ee2f-11e7-80ef-0242ac110002",
       "previous": null
      }
     ],
     "next": "bb86250a-ee2f-11e7-80ef-0242ac110002",
     "previous": null
    },
    "run_through_control": {
     "frozen": true,
     "read_only": false
    }
   },
   "source": [
    "# AITAC ITインフラ構築と運用の自動化 演習"
   ]
  },
  {
   "cell_type": "markdown",
   "metadata": {
    "deletable": false,
    "editable": false,
    "lc_cell_meme": {
     "current": "bb86250a-ee2f-11e7-80ef-0242ac110002",
     "history": [
      {
       "current": "bb86250a-ee2f-11e7-80ef-0242ac110002",
       "next": "bb86262c-ee2f-11e7-80ef-0242ac110002",
       "previous": "bb862316-ee2f-11e7-80ef-0242ac110002"
      }
     ],
     "next": "bb86262c-ee2f-11e7-80ef-0242ac110002",
     "previous": "742e4282-ee2f-11e7-80ef-0242ac110002"
    },
    "run_through_control": {
     "frozen": true,
     "read_only": false
    }
   },
   "source": [
    "## 演習環境について"
   ]
  },
  {
   "cell_type": "markdown",
   "metadata": {
    "deletable": false,
    "editable": false,
    "lc_cell_meme": {
     "current": "bb86262c-ee2f-11e7-80ef-0242ac110002",
     "history": [
      {
       "current": "bb86262c-ee2f-11e7-80ef-0242ac110002",
       "next": null,
       "previous": "bb86250a-ee2f-11e7-80ef-0242ac110002"
      }
     ],
     "next": "030f3998-ee30-11e7-80ef-0242ac110002",
     "previous": "bb86250a-ee2f-11e7-80ef-0242ac110002"
    },
    "run_through_control": {
     "frozen": true,
     "read_only": false
    }
   },
   "source": [
    "本演習環境はJupyter Notebook上から行います。\n",
    "\n",
    "この環境は国立情報学研究所（以下NII）によるLiterate Computingの研究成果を組み込み拡張されたJupyter環境を、本演習向けにカスタマイズしたとなっております。\n",
    "\n",
    "本環境のオリジナルに関する詳細は以下になります。\n",
    "\n",
    "- [Jupyter Notebook for Literate Computing for Reproducible Infrastructure](https://github.com/NII-cloud-operation/Jupyter-LC_docker)"
   ]
  },
  {
   "cell_type": "markdown",
   "metadata": {
    "deletable": false,
    "editable": false,
    "lc_cell_meme": {
     "current": "030f3998-ee30-11e7-80ef-0242ac110002",
     "history": [
      {
       "current": "030f3998-ee30-11e7-80ef-0242ac110002",
       "next": null,
       "previous": "bb86262c-ee2f-11e7-80ef-0242ac110002"
      }
     ],
     "next": "21397e28-ee31-11e7-80ef-0242ac110002",
     "previous": "bb86262c-ee2f-11e7-80ef-0242ac110002"
    },
    "run_through_control": {
     "frozen": true,
     "read_only": false
    }
   },
   "source": [
    "## Jupyter の使い方"
   ]
  },
  {
   "cell_type": "markdown",
   "metadata": {
    "deletable": false,
    "editable": false,
    "lc_cell_meme": {
     "current": "21397e28-ee31-11e7-80ef-0242ac110002",
     "history": [
      {
       "current": "21397e28-ee31-11e7-80ef-0242ac110002",
       "next": null,
       "previous": "030f3998-ee30-11e7-80ef-0242ac110002"
      },
      {
       "current": "21397e28-ee31-11e7-80ef-0242ac110002",
       "next": "1ccea6d4-ee3a-11e7-80ef-0242ac110002",
       "previous": "030f3998-ee30-11e7-80ef-0242ac110002"
      }
     ],
     "next": "3aea3ef2-ee3b-11e7-80ef-0242ac110002",
     "previous": "030f3998-ee30-11e7-80ef-0242ac110002"
    },
    "run_through_control": {
     "frozen": true,
     "read_only": false
    }
   },
   "source": [
    "ノートブックの使い方はシンプルです。\n",
    "\n",
    "入力可能な Cell に対して、処理かMarkdown形式でのドキュメントを記述していきます。"
   ]
  },
  {
   "cell_type": "markdown",
   "metadata": {
    "deletable": false,
    "editable": false,
    "lc_cell_meme": {
     "current": "3aea3ef2-ee3b-11e7-80ef-0242ac110002",
     "next": "3aea4104-ee3b-11e7-80ef-0242ac110002",
     "previous": "21397e28-ee31-11e7-80ef-0242ac110002"
    },
    "run_through_control": {
     "frozen": true,
     "read_only": false
    }
   },
   "source": [
    "### Cell の実行"
   ]
  },
  {
   "cell_type": "markdown",
   "metadata": {
    "deletable": false,
    "editable": false,
    "lc_cell_meme": {
     "current": "3aea4104-ee3b-11e7-80ef-0242ac110002",
     "next": "1ccea6d4-ee3a-11e7-80ef-0242ac110002",
     "previous": "3aea3ef2-ee3b-11e7-80ef-0242ac110002"
    },
    "run_through_control": {
     "frozen": true,
     "read_only": false
    }
   },
   "source": [
    "Cell に行いたい処理を記述し、Shift + Enter で Cell の内容が実行されます。"
   ]
  },
  {
   "cell_type": "markdown",
   "metadata": {
    "deletable": false,
    "editable": false,
    "lc_cell_meme": {
     "current": "1ccea6d4-ee3a-11e7-80ef-0242ac110002",
     "history": [
      {
       "current": "1ccea6d4-ee3a-11e7-80ef-0242ac110002",
       "next": null,
       "previous": "21397e28-ee31-11e7-80ef-0242ac110002"
      },
      {
       "current": "1ccea6d4-ee3a-11e7-80ef-0242ac110002",
       "next": "abdafe04-ee3a-11e7-80ef-0242ac110002",
       "previous": "21397e28-ee31-11e7-80ef-0242ac110002"
      }
     ],
     "next": "abdafe04-ee3a-11e7-80ef-0242ac110002",
     "previous": "3aea4104-ee3b-11e7-80ef-0242ac110002"
    },
    "run_through_control": {
     "frozen": true,
     "read_only": false
    }
   },
   "source": [
    "試しに下のCellのフォーカスをあわせて、Shift + Enter を押してください。"
   ]
  },
  {
   "cell_type": "code",
   "execution_count": null,
   "metadata": {
    "lc_cell_meme": {
     "current": "abdafe04-ee3a-11e7-80ef-0242ac110002",
     "history": [
      {
       "current": "abdafe04-ee3a-11e7-80ef-0242ac110002",
       "next": "abdb01c4-ee3a-11e7-80ef-0242ac110002",
       "previous": "1ccea6d4-ee3a-11e7-80ef-0242ac110002"
      }
     ],
     "next": "117e2870-ee3c-11e7-80ef-0242ac110002",
     "previous": "1ccea6d4-ee3a-11e7-80ef-0242ac110002"
    }
   },
   "outputs": [],
   "source": [
    "ls -alF"
   ]
  },
  {
   "cell_type": "code",
   "execution_count": null,
   "metadata": {
    "lc_cell_meme": {
     "current": "117e2870-ee3c-11e7-80ef-0242ac110002",
     "next": "117e2b18-ee3c-11e7-80ef-0242ac110002",
     "previous": "abdafe04-ee3a-11e7-80ef-0242ac110002"
    }
   },
   "outputs": [],
   "source": [
    "pwd"
   ]
  },
  {
   "cell_type": "code",
   "execution_count": null,
   "metadata": {
    "lc_cell_meme": {
     "current": "117e2b18-ee3c-11e7-80ef-0242ac110002",
     "history": [
      {
       "current": "117e2b18-ee3c-11e7-80ef-0242ac110002",
       "next": "abdb01c4-ee3a-11e7-80ef-0242ac110002",
       "previous": "117e2870-ee3c-11e7-80ef-0242ac110002"
      }
     ],
     "next": "a9550724-ee3f-11e7-80ef-0242ac110002",
     "previous": "117e2870-ee3c-11e7-80ef-0242ac110002"
    }
   },
   "outputs": [],
   "source": [
    "hostname\n",
    "date"
   ]
  },
  {
   "cell_type": "code",
   "execution_count": null,
   "metadata": {
    "lc_cell_meme": {
     "current": "a9550724-ee3f-11e7-80ef-0242ac110002",
     "next": "abdb01c4-ee3a-11e7-80ef-0242ac110002",
     "previous": "117e2b18-ee3c-11e7-80ef-0242ac110002"
    }
   },
   "outputs": [],
   "source": [
    "ansible --version"
   ]
  },
  {
   "cell_type": "markdown",
   "metadata": {
    "deletable": false,
    "editable": false,
    "lc_cell_meme": {
     "current": "abdb01c4-ee3a-11e7-80ef-0242ac110002",
     "history": [
      {
       "current": "abdb01c4-ee3a-11e7-80ef-0242ac110002",
       "next": "abdb030e-ee3a-11e7-80ef-0242ac110002",
       "previous": "abdafe04-ee3a-11e7-80ef-0242ac110002"
      },
      {
       "current": "abdb01c4-ee3a-11e7-80ef-0242ac110002",
       "next": "abdb041c-ee3a-11e7-80ef-0242ac110002",
       "previous": "abdafe04-ee3a-11e7-80ef-0242ac110002"
      },
      {
       "current": "abdb01c4-ee3a-11e7-80ef-0242ac110002",
       "next": "3aea423a-ee3b-11e7-80ef-0242ac110002",
       "previous": "abdafe04-ee3a-11e7-80ef-0242ac110002"
      },
      {
       "current": "abdb01c4-ee3a-11e7-80ef-0242ac110002",
       "next": "3aea423a-ee3b-11e7-80ef-0242ac110002",
       "previous": "117e2b18-ee3c-11e7-80ef-0242ac110002"
      }
     ],
     "next": "3aea423a-ee3b-11e7-80ef-0242ac110002",
     "previous": "a9550724-ee3f-11e7-80ef-0242ac110002"
    },
    "run_through_control": {
     "frozen": true,
     "read_only": false
    }
   },
   "source": [
    "このように、処理を記述して実行すると、実行結果が記録されます。"
   ]
  },
  {
   "cell_type": "markdown",
   "metadata": {
    "deletable": false,
    "editable": false,
    "lc_cell_meme": {
     "current": "3aea423a-ee3b-11e7-80ef-0242ac110002",
     "history": [
      {
       "current": "3aea423a-ee3b-11e7-80ef-0242ac110002",
       "next": "abdb041c-ee3a-11e7-80ef-0242ac110002",
       "previous": "abdb01c4-ee3a-11e7-80ef-0242ac110002"
      }
     ],
     "next": "826cb354-ee3b-11e7-80ef-0242ac110002",
     "previous": "abdb01c4-ee3a-11e7-80ef-0242ac110002"
    },
    "run_through_control": {
     "frozen": true,
     "read_only": false
    }
   },
   "source": [
    "### Cell の挿入と削除、やり直し"
   ]
  },
  {
   "cell_type": "markdown",
   "metadata": {
    "deletable": false,
    "editable": false,
    "lc_cell_meme": {
     "current": "826cb354-ee3b-11e7-80ef-0242ac110002",
     "next": "abdb041c-ee3a-11e7-80ef-0242ac110002",
     "previous": "3aea423a-ee3b-11e7-80ef-0242ac110002"
    },
    "run_through_control": {
     "frozen": true,
     "read_only": false
    }
   },
   "source": [
    "Cell は任意に挿入、削除が可能です。\n",
    "\n",
    "この行にフォーカスを当てて、 b を押してください。"
   ]
  },
  {
   "cell_type": "markdown",
   "metadata": {
    "deletable": false,
    "editable": false,
    "lc_cell_meme": {
     "current": "abdb041c-ee3a-11e7-80ef-0242ac110002",
     "history": [
      {
       "current": "abdb041c-ee3a-11e7-80ef-0242ac110002",
       "next": null,
       "previous": "abdb030e-ee3a-11e7-80ef-0242ac110002"
      },
      {
       "current": "abdb041c-ee3a-11e7-80ef-0242ac110002",
       "next": "f17b74ca-ee3a-11e7-80ef-0242ac110002",
       "previous": "abdb01c4-ee3a-11e7-80ef-0242ac110002"
      },
      {
       "current": "abdb041c-ee3a-11e7-80ef-0242ac110002",
       "next": "f17b74ca-ee3a-11e7-80ef-0242ac110002",
       "previous": "3aea423a-ee3b-11e7-80ef-0242ac110002"
      }
     ],
     "next": "f17b74ca-ee3a-11e7-80ef-0242ac110002",
     "previous": "826cb354-ee3b-11e7-80ef-0242ac110002"
    },
    "run_through_control": {
     "frozen": true,
     "read_only": false
    }
   },
   "source": [
    "Cell が挿入されたと思います。\n",
    "\n",
    "次に、上で追加された Cell にフォーカスを合わせて、 dd とキーを押してください。これで Cell が削除されます。\n",
    "\n",
    "z を押すと undo されます。"
   ]
  },
  {
   "cell_type": "markdown",
   "metadata": {
    "deletable": false,
    "editable": false,
    "lc_cell_meme": {
     "current": "f17b74ca-ee3a-11e7-80ef-0242ac110002",
     "history": [
      {
       "current": "f17b74ca-ee3a-11e7-80ef-0242ac110002",
       "next": null,
       "previous": "abdb041c-ee3a-11e7-80ef-0242ac110002"
      },
      {
       "current": "f17b74ca-ee3a-11e7-80ef-0242ac110002",
       "next": "abdb030e-ee3a-11e7-80ef-0242ac110002",
       "previous": "abdb041c-ee3a-11e7-80ef-0242ac110002"
      }
     ],
     "next": "c9f67804-ee3b-11e7-80ef-0242ac110002",
     "previous": "abdb041c-ee3a-11e7-80ef-0242ac110002"
    },
    "run_through_control": {
     "frozen": true,
     "read_only": false
    }
   },
   "source": [
    "### モードの変更"
   ]
  },
  {
   "cell_type": "markdown",
   "metadata": {
    "deletable": false,
    "editable": false,
    "lc_cell_meme": {
     "current": "c9f67804-ee3b-11e7-80ef-0242ac110002",
     "next": "abdb030e-ee3a-11e7-80ef-0242ac110002",
     "previous": "f17b74ca-ee3a-11e7-80ef-0242ac110002"
    },
    "run_through_control": {
     "frozen": true,
     "read_only": false
    }
   },
   "source": [
    "Cell にはCodeモードとMarkdownモードがあります。\n",
    "\n",
    "フォーカスを合わせた状態で、\n",
    "\n",
    "- Y: Codeモード\n",
    "- M: Markdownモード\n",
    "\n",
    "で、モードの変更が可能です。\n",
    "\n",
    "下の Cell のモードを変更してみてください。"
   ]
  },
  {
   "cell_type": "code",
   "execution_count": null,
   "metadata": {
    "lc_cell_meme": {
     "current": "abdb030e-ee3a-11e7-80ef-0242ac110002",
     "history": [
      {
       "current": "abdb030e-ee3a-11e7-80ef-0242ac110002",
       "next": "abdb041c-ee3a-11e7-80ef-0242ac110002",
       "previous": "abdb01c4-ee3a-11e7-80ef-0242ac110002"
      },
      {
       "current": "abdb030e-ee3a-11e7-80ef-0242ac110002",
       "next": null,
       "previous": "f17b74ca-ee3a-11e7-80ef-0242ac110002"
      },
      {
       "current": "abdb030e-ee3a-11e7-80ef-0242ac110002",
       "next": null,
       "previous": "c9f67804-ee3b-11e7-80ef-0242ac110002"
      }
     ],
     "next": "117e2f64-ee3c-11e7-80ef-0242ac110002",
     "previous": "c9f67804-ee3b-11e7-80ef-0242ac110002"
    }
   },
   "outputs": [],
   "source": []
  },
  {
   "cell_type": "markdown",
   "metadata": {
    "deletable": false,
    "editable": false,
    "lc_cell_meme": {
     "current": "117e2f64-ee3c-11e7-80ef-0242ac110002",
     "next": "117e3194-ee3c-11e7-80ef-0242ac110002",
     "previous": "abdb030e-ee3a-11e7-80ef-0242ac110002"
    },
    "run_through_control": {
     "frozen": true,
     "read_only": false
    }
   },
   "source": [
    "### Cell の強制終了"
   ]
  },
  {
   "cell_type": "markdown",
   "metadata": {
    "deletable": false,
    "editable": false,
    "lc_cell_meme": {
     "current": "117e3194-ee3c-11e7-80ef-0242ac110002",
     "history": [
      {
       "current": "117e3194-ee3c-11e7-80ef-0242ac110002",
       "next": null,
       "previous": "117e2f64-ee3c-11e7-80ef-0242ac110002"
      },
      {
       "current": "117e3194-ee3c-11e7-80ef-0242ac110002",
       "next": "e8132ffc-ee3c-11e7-80ef-0242ac110002",
       "previous": "117e2f64-ee3c-11e7-80ef-0242ac110002"
      }
     ],
     "next": "2f99b224-ee3d-11e7-80ef-0242ac110002",
     "previous": "117e2f64-ee3c-11e7-80ef-0242ac110002"
    },
    "run_through_control": {
     "frozen": true,
     "read_only": false
    }
   },
   "source": [
    "Cell に記述する処理にはインタラクティブなものは実行できません。もし実行してしまった場合は入力プロンプトが表示されず固まってしまいます。このような場合には Cell を強制終了する必要があります。\n",
    "\n",
    "以下のようの処理がJupyter上では行なえません。\n",
    "\n",
    "- エディタでファイルを開いて編集する\n",
    "- ping のように Ctrl + c が押されるまで動き続けるもの\n",
    "- 実行後に yes/no の入力を求めるもの（cp での上書きなど）\n",
    "\n",
    "強制終了するには、Cell にフォーカスをあわせて ii と入力します。"
   ]
  },
  {
   "cell_type": "markdown",
   "metadata": {
    "lc_cell_meme": {
     "current": "2f99b224-ee3d-11e7-80ef-0242ac110002",
     "next": "e8132ffc-ee3c-11e7-80ef-0242ac110002",
     "previous": "117e3194-ee3c-11e7-80ef-0242ac110002"
    }
   },
   "source": [
    "下の Cell を実行してみてください。この処理は通常 Ctrl + c が押されるまで停止しませんが、 ii と入力することで SIGHUP を送信して処理を停止されられます。"
   ]
  },
  {
   "cell_type": "code",
   "execution_count": null,
   "metadata": {
    "lc_cell_meme": {
     "current": "e8132ffc-ee3c-11e7-80ef-0242ac110002",
     "history": [
      {
       "current": "e8132ffc-ee3c-11e7-80ef-0242ac110002",
       "next": "e8133204-ee3c-11e7-80ef-0242ac110002",
       "previous": "117e3194-ee3c-11e7-80ef-0242ac110002"
      }
     ],
     "next": "2f99b4f4-ee3d-11e7-80ef-0242ac110002",
     "previous": "2f99b224-ee3d-11e7-80ef-0242ac110002"
    }
   },
   "outputs": [],
   "source": [
    "ping 8.8.8.8"
   ]
  },
  {
   "cell_type": "markdown",
   "metadata": {
    "deletable": false,
    "editable": false,
    "lc_cell_meme": {
     "current": "2f99b4f4-ee3d-11e7-80ef-0242ac110002",
     "next": "e8133204-ee3c-11e7-80ef-0242ac110002",
     "previous": "e8132ffc-ee3c-11e7-80ef-0242ac110002"
    },
    "run_through_control": {
     "frozen": true,
     "read_only": false
    }
   },
   "source": [
    "### インタラクティブな処理の実行"
   ]
  },
  {
   "cell_type": "markdown",
   "metadata": {
    "deletable": false,
    "editable": false,
    "lc_cell_meme": {
     "current": "e8133204-ee3c-11e7-80ef-0242ac110002",
     "history": [
      {
       "current": "e8133204-ee3c-11e7-80ef-0242ac110002",
       "next": null,
       "previous": "e8132ffc-ee3c-11e7-80ef-0242ac110002"
      },
      {
       "current": "e8133204-ee3c-11e7-80ef-0242ac110002",
       "next": null,
       "previous": "2f99b4f4-ee3d-11e7-80ef-0242ac110002"
      }
     ],
     "next": "771afdce-ee3d-11e7-80ef-0242ac110002",
     "previous": "2f99b4f4-ee3d-11e7-80ef-0242ac110002"
    },
    "run_through_control": {
     "frozen": true,
     "read_only": false
    }
   },
   "source": [
    "どうしてもインタラクティブな操作が必要なコマンドが出て来る場合があります（後の演習でも出てきますが）\n",
    "\n",
    "その場合は、Jupyter のメイン画面から 「New] → 「Terminal」を起動して実行してください。"
   ]
  },
  {
   "cell_type": "markdown",
   "metadata": {
    "deletable": false,
    "editable": false,
    "lc_cell_meme": {
     "current": "771afdce-ee3d-11e7-80ef-0242ac110002",
     "next": "771affc2-ee3d-11e7-80ef-0242ac110002",
     "previous": "e8133204-ee3c-11e7-80ef-0242ac110002"
    },
    "run_through_control": {
     "frozen": true,
     "read_only": false
    }
   },
   "source": [
    "### ファイルの編集"
   ]
  },
  {
   "cell_type": "markdown",
   "metadata": {
    "deletable": false,
    "editable": false,
    "lc_cell_meme": {
     "current": "771affc2-ee3d-11e7-80ef-0242ac110002",
     "history": [
      {
       "current": "771affc2-ee3d-11e7-80ef-0242ac110002",
       "next": null,
       "previous": "771afdce-ee3d-11e7-80ef-0242ac110002"
      }
     ],
     "next": "bea56b8e-ee3d-11e7-80ef-0242ac110002",
     "previous": "771afdce-ee3d-11e7-80ef-0242ac110002"
    },
    "run_through_control": {
     "frozen": true,
     "read_only": false
    }
   },
   "source": [
    "ファイルの編集が必要となるケースでは、cat や echo コマンドを使ってコマンドから生成するか、「New」→「Text File」を選択してエディタを起動してファイルを編集します。"
   ]
  },
  {
   "cell_type": "markdown",
   "metadata": {
    "deletable": false,
    "editable": false,
    "lc_cell_meme": {
     "current": "bea56b8e-ee3d-11e7-80ef-0242ac110002",
     "history": [
      {
       "current": "bea56b8e-ee3d-11e7-80ef-0242ac110002",
       "next": null,
       "previous": "771affc2-ee3d-11e7-80ef-0242ac110002"
      },
      {
       "current": "bea56b8e-ee3d-11e7-80ef-0242ac110002",
       "next": "062b613e-ee3e-11e7-80ef-0242ac110002",
       "previous": "771affc2-ee3d-11e7-80ef-0242ac110002"
      }
     ],
     "next": "6bd0a80e-ee3f-11e7-80ef-0242ac110002",
     "previous": "771affc2-ee3d-11e7-80ef-0242ac110002"
    },
    "run_through_control": {
     "frozen": true,
     "read_only": false
    }
   },
   "source": [
    "以下のようなリンクを作成することでも既存ファイルをエディタから編集することが可能です。下のリンクをクリックしてください。\n",
    "\n",
    "[text_edit.txt](/edit/aitac-automation-handson/text_edit.txt)"
   ]
  },
  {
   "cell_type": "code",
   "execution_count": null,
   "metadata": {
    "lc_cell_meme": {
     "current": "6bd0a80e-ee3f-11e7-80ef-0242ac110002",
     "next": "062b613e-ee3e-11e7-80ef-0242ac110002",
     "previous": "bea56b8e-ee3d-11e7-80ef-0242ac110002"
    }
   },
   "outputs": [],
   "source": [
    "cat text_edit.txt"
   ]
  },
  {
   "cell_type": "markdown",
   "metadata": {
    "deletable": false,
    "editable": false,
    "lc_cell_meme": {
     "current": "062b613e-ee3e-11e7-80ef-0242ac110002",
     "history": [
      {
       "current": "062b613e-ee3e-11e7-80ef-0242ac110002",
       "next": null,
       "previous": "bea56b8e-ee3d-11e7-80ef-0242ac110002"
      },
      {
       "current": "062b613e-ee3e-11e7-80ef-0242ac110002",
       "next": "4db307c8-ee3e-11e7-80ef-0242ac110002",
       "previous": "bea56b8e-ee3d-11e7-80ef-0242ac110002"
      }
     ],
     "next": "4db307c8-ee3e-11e7-80ef-0242ac110002",
     "previous": "6bd0a80e-ee3f-11e7-80ef-0242ac110002"
    },
    "run_through_control": {
     "frozen": true,
     "read_only": false
    }
   },
   "source": [
    "演習ではファイルの編集が必要なケースでは上記の用にガイド用リンクを示します。"
   ]
  },
  {
   "cell_type": "markdown",
   "metadata": {
    "deletable": false,
    "editable": false,
    "lc_cell_meme": {
     "current": "4db307c8-ee3e-11e7-80ef-0242ac110002",
     "history": [
      {
       "current": "4db307c8-ee3e-11e7-80ef-0242ac110002",
       "next": null,
       "previous": "062b613e-ee3e-11e7-80ef-0242ac110002"
      }
     ],
     "next": "953a13de-ee3e-11e7-80ef-0242ac110002",
     "previous": "062b613e-ee3e-11e7-80ef-0242ac110002"
    },
    "run_through_control": {
     "frozen": true,
     "read_only": false
    }
   },
   "source": [
    "### ノートブックの保存と終了"
   ]
  },
  {
   "cell_type": "markdown",
   "metadata": {
    "deletable": false,
    "editable": false,
    "lc_cell_meme": {
     "current": "953a13de-ee3e-11e7-80ef-0242ac110002",
     "history": [
      {
       "current": "953a13de-ee3e-11e7-80ef-0242ac110002",
       "next": null,
       "previous": "4db307c8-ee3e-11e7-80ef-0242ac110002"
      }
     ],
     "next": "dcc108c0-ee3e-11e7-80ef-0242ac110002",
     "previous": "4db307c8-ee3e-11e7-80ef-0242ac110002"
    },
    "run_through_control": {
     "frozen": true,
     "read_only": false
    }
   },
   "source": [
    "ノートブックを保存するには、メニューの「File」→「Save and Checkpoint」を選択します。\n",
    "\n",
    "ノートブックを終了するには、メニューの「File」→「Close and Halt」を選択します。"
   ]
  },
  {
   "cell_type": "markdown",
   "metadata": {
    "deletable": false,
    "editable": false,
    "lc_cell_meme": {
     "current": "dcc108c0-ee3e-11e7-80ef-0242ac110002",
     "next": "dcc10aaa-ee3e-11e7-80ef-0242ac110002",
     "previous": "953a13de-ee3e-11e7-80ef-0242ac110002"
    },
    "run_through_control": {
     "frozen": true,
     "read_only": false
    }
   },
   "source": [
    "### その他の操作方法について"
   ]
  },
  {
   "cell_type": "markdown",
   "metadata": {
    "deletable": false,
    "editable": false,
    "lc_cell_meme": {
     "current": "dcc10aaa-ee3e-11e7-80ef-0242ac110002",
     "history": [
      {
       "current": "dcc10aaa-ee3e-11e7-80ef-0242ac110002",
       "next": null,
       "previous": "dcc108c0-ee3e-11e7-80ef-0242ac110002"
      }
     ],
     "next": "244806ee-ee3f-11e7-80ef-0242ac110002",
     "previous": "dcc108c0-ee3e-11e7-80ef-0242ac110002"
    },
    "run_through_control": {
     "frozen": true,
     "read_only": false
    }
   },
   "source": [
    "メニューの「Help」→「Keyboard Shortcut」から全操作の一覧と割り当てられているショートカットを確認できます。\n",
    "\n",
    "また本Jupyter環境は拡張が施されており、通常版のJupyterよりも便利な機能を備えています。そちらの機能の使い方に関しては、以下のリンク先のノートブックを参照してください。\n",
    "\n",
    "[01_About NII Extensions - NII謹製の機能拡張について.ipynb](/notebooks/01_About%20NII%20Extensions%20-%20NII謹製の機能拡張について.ipynb)"
   ]
  },
  {
   "cell_type": "markdown",
   "metadata": {
    "deletable": false,
    "editable": false,
    "lc_cell_meme": {
     "current": "244806ee-ee3f-11e7-80ef-0242ac110002",
     "next": "244808e2-ee3f-11e7-80ef-0242ac110002",
     "previous": "dcc10aaa-ee3e-11e7-80ef-0242ac110002"
    },
    "run_through_control": {
     "frozen": true,
     "read_only": false
    }
   },
   "source": [
    "## 演習の開始"
   ]
  },
  {
   "cell_type": "markdown",
   "metadata": {
    "deletable": false,
    "editable": false,
    "lc_cell_meme": {
     "current": "244808e2-ee3f-11e7-80ef-0242ac110002",
     "next": null,
     "previous": "244806ee-ee3f-11e7-80ef-0242ac110002"
    },
    "run_through_control": {
     "frozen": true,
     "read_only": false
    }
   },
   "source": [
    "全ての演習はこのJupyter上で行っていきます。\n",
    "\n",
    "01_xxx, 02_yyy, 03_zzz ... と順番にノートブックを開き、演習を進めてください。"
   ]
  }
 ],
 "metadata": {
  "kernelspec": {
   "display_name": "Bash",
   "language": "bash",
   "name": "bash"
  },
  "language_info": {
   "codemirror_mode": "shell",
   "file_extension": ".sh",
   "mimetype": "text/x-sh",
   "name": "bash"
  },
  "lc_notebook_meme": {
   "current": "742e405c-ee2f-11e7-80ef-0242ac110002",
   "lc_server_signature": {
    "current": {
     "notebook_dir": "/notebooks",
     "notebook_path": "/aitac-automation-handson",
     "server_url": "http://13.112.122.31:8888/",
     "signature_id": "1ba34b78-ee23-11e7-80ef-0242ac110002"
    },
    "history": []
   }
  },
  "toc": {
   "nav_menu": {},
   "number_sections": true,
   "sideBar": true,
   "skip_h1_title": true,
   "title_cell": "Table of Contents",
   "title_sidebar": "Contents",
   "toc_cell": false,
   "toc_position": {},
   "toc_section_display": true,
   "toc_window_display": true
  }
 },
 "nbformat": 4,
 "nbformat_minor": 2
}
